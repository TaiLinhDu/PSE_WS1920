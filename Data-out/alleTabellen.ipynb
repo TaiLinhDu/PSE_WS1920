{
 "cells": [
  {
   "cell_type": "code",
   "execution_count": 1,
   "metadata": {},
   "outputs": [
    {
     "name": "stdout",
     "output_type": "stream",
     "text": [
      "hello world\n"
     ]
    }
   ],
   "source": [
    "print(\"hello world\")"
   ]
  },
  {
   "cell_type": "code",
   "execution_count": 2,
   "metadata": {},
   "outputs": [],
   "source": [
    "import numpy as np"
   ]
  },
  {
   "cell_type": "code",
   "execution_count": 3,
   "metadata": {},
   "outputs": [],
   "source": [
    "import pandas as pd"
   ]
  },
  {
   "cell_type": "code",
   "execution_count": 4,
   "metadata": {},
   "outputs": [],
   "source": [
    "import matplotlib.pyplot as plt"
   ]
  },
  {
   "cell_type": "code",
   "execution_count": 5,
   "metadata": {},
   "outputs": [],
   "source": [
    "brands = pd.read_csv(r\"brands.csv\")"
   ]
  },
  {
   "cell_type": "code",
   "execution_count": 9,
   "metadata": {},
   "outputs": [
    {
     "data": {
      "text/html": [
       "<div>\n",
       "<style scoped>\n",
       "    .dataframe tbody tr th:only-of-type {\n",
       "        vertical-align: middle;\n",
       "    }\n",
       "\n",
       "    .dataframe tbody tr th {\n",
       "        vertical-align: top;\n",
       "    }\n",
       "\n",
       "    .dataframe thead th {\n",
       "        text-align: right;\n",
       "    }\n",
       "</style>\n",
       "<table border=\"1\" class=\"dataframe\">\n",
       "  <thead>\n",
       "    <tr style=\"text-align: right;\">\n",
       "      <th></th>\n",
       "      <th>pid</th>\n",
       "      <th>BRAND</th>\n",
       "    </tr>\n",
       "  </thead>\n",
       "  <tbody>\n",
       "    <tr>\n",
       "      <td>0</td>\n",
       "      <td>66605</td>\n",
       "      <td>BRAND_0</td>\n",
       "    </tr>\n",
       "    <tr>\n",
       "      <td>1</td>\n",
       "      <td>66715</td>\n",
       "      <td>BRAND_0</td>\n",
       "    </tr>\n",
       "    <tr>\n",
       "      <td>2</td>\n",
       "      <td>66756</td>\n",
       "      <td>BRAND_0</td>\n",
       "    </tr>\n",
       "    <tr>\n",
       "      <td>3</td>\n",
       "      <td>66774</td>\n",
       "      <td>BRAND_0</td>\n",
       "    </tr>\n",
       "    <tr>\n",
       "      <td>4</td>\n",
       "      <td>66794</td>\n",
       "      <td>BRAND_0</td>\n",
       "    </tr>\n",
       "    <tr>\n",
       "      <td>...</td>\n",
       "      <td>...</td>\n",
       "      <td>...</td>\n",
       "    </tr>\n",
       "    <tr>\n",
       "      <td>263248</td>\n",
       "      <td>241084</td>\n",
       "      <td>BRAND_9</td>\n",
       "    </tr>\n",
       "    <tr>\n",
       "      <td>263249</td>\n",
       "      <td>242220</td>\n",
       "      <td>BRAND_9</td>\n",
       "    </tr>\n",
       "    <tr>\n",
       "      <td>263250</td>\n",
       "      <td>248306</td>\n",
       "      <td>BRAND_9</td>\n",
       "    </tr>\n",
       "    <tr>\n",
       "      <td>263251</td>\n",
       "      <td>251575</td>\n",
       "      <td>BRAND_9</td>\n",
       "    </tr>\n",
       "    <tr>\n",
       "      <td>263252</td>\n",
       "      <td>254937</td>\n",
       "      <td>BRAND_9</td>\n",
       "    </tr>\n",
       "  </tbody>\n",
       "</table>\n",
       "<p>263253 rows × 2 columns</p>\n",
       "</div>"
      ],
      "text/plain": [
       "           pid    BRAND\n",
       "0        66605  BRAND_0\n",
       "1        66715  BRAND_0\n",
       "2        66756  BRAND_0\n",
       "3        66774  BRAND_0\n",
       "4        66794  BRAND_0\n",
       "...        ...      ...\n",
       "263248  241084  BRAND_9\n",
       "263249  242220  BRAND_9\n",
       "263250  248306  BRAND_9\n",
       "263251  251575  BRAND_9\n",
       "263252  254937  BRAND_9\n",
       "\n",
       "[263253 rows x 2 columns]"
      ]
     },
     "execution_count": 9,
     "metadata": {},
     "output_type": "execute_result"
    }
   ],
   "source": [
    "brands"
   ]
  },
  {
   "cell_type": "code",
   "execution_count": 10,
   "metadata": {},
   "outputs": [],
   "source": [
    "sim = pd.read_csv(r\"sim.csv\")"
   ]
  },
  {
   "cell_type": "code",
   "execution_count": 11,
   "metadata": {},
   "outputs": [
    {
     "data": {
      "text/html": [
       "<div>\n",
       "<style scoped>\n",
       "    .dataframe tbody tr th:only-of-type {\n",
       "        vertical-align: middle;\n",
       "    }\n",
       "\n",
       "    .dataframe tbody tr th {\n",
       "        vertical-align: top;\n",
       "    }\n",
       "\n",
       "    .dataframe thead th {\n",
       "        text-align: right;\n",
       "    }\n",
       "</style>\n",
       "<table border=\"1\" class=\"dataframe\">\n",
       "  <thead>\n",
       "    <tr style=\"text-align: right;\">\n",
       "      <th></th>\n",
       "      <th>pid</th>\n",
       "      <th>SIM</th>\n",
       "    </tr>\n",
       "  </thead>\n",
       "  <tbody>\n",
       "    <tr>\n",
       "      <td>0</td>\n",
       "      <td>63422</td>\n",
       "      <td>SIM_14</td>\n",
       "    </tr>\n",
       "    <tr>\n",
       "      <td>1</td>\n",
       "      <td>63423</td>\n",
       "      <td>SIM_14</td>\n",
       "    </tr>\n",
       "    <tr>\n",
       "      <td>2</td>\n",
       "      <td>63424</td>\n",
       "      <td>SIM_14</td>\n",
       "    </tr>\n",
       "    <tr>\n",
       "      <td>3</td>\n",
       "      <td>63425</td>\n",
       "      <td>SIM_14</td>\n",
       "    </tr>\n",
       "    <tr>\n",
       "      <td>4</td>\n",
       "      <td>63427</td>\n",
       "      <td>SIM_36</td>\n",
       "    </tr>\n",
       "    <tr>\n",
       "      <td>...</td>\n",
       "      <td>...</td>\n",
       "      <td>...</td>\n",
       "    </tr>\n",
       "    <tr>\n",
       "      <td>102817</td>\n",
       "      <td>176008</td>\n",
       "      <td>SIM_14</td>\n",
       "    </tr>\n",
       "    <tr>\n",
       "      <td>102818</td>\n",
       "      <td>176009</td>\n",
       "      <td>SIM_14</td>\n",
       "    </tr>\n",
       "    <tr>\n",
       "      <td>102819</td>\n",
       "      <td>176010</td>\n",
       "      <td>SIM_14</td>\n",
       "    </tr>\n",
       "    <tr>\n",
       "      <td>102820</td>\n",
       "      <td>176011</td>\n",
       "      <td>SIM_14</td>\n",
       "    </tr>\n",
       "    <tr>\n",
       "      <td>102821</td>\n",
       "      <td>176013</td>\n",
       "      <td>SIM_14</td>\n",
       "    </tr>\n",
       "  </tbody>\n",
       "</table>\n",
       "<p>102822 rows × 2 columns</p>\n",
       "</div>"
      ],
      "text/plain": [
       "           pid     SIM\n",
       "0        63422  SIM_14\n",
       "1        63423  SIM_14\n",
       "2        63424  SIM_14\n",
       "3        63425  SIM_14\n",
       "4        63427  SIM_36\n",
       "...        ...     ...\n",
       "102817  176008  SIM_14\n",
       "102818  176009  SIM_14\n",
       "102819  176010  SIM_14\n",
       "102820  176011  SIM_14\n",
       "102821  176013  SIM_14\n",
       "\n",
       "[102822 rows x 2 columns]"
      ]
     },
     "execution_count": 11,
     "metadata": {},
     "output_type": "execute_result"
    }
   ],
   "source": [
    "sim"
   ]
  },
  {
   "cell_type": "code",
   "execution_count": 12,
   "metadata": {},
   "outputs": [],
   "source": [
    "tariffs = pd.read_csv(r\"tariffs.csv\")"
   ]
  },
  {
   "cell_type": "code",
   "execution_count": 13,
   "metadata": {},
   "outputs": [
    {
     "data": {
      "text/html": [
       "<div>\n",
       "<style scoped>\n",
       "    .dataframe tbody tr th:only-of-type {\n",
       "        vertical-align: middle;\n",
       "    }\n",
       "\n",
       "    .dataframe tbody tr th {\n",
       "        vertical-align: top;\n",
       "    }\n",
       "\n",
       "    .dataframe thead th {\n",
       "        text-align: right;\n",
       "    }\n",
       "</style>\n",
       "<table border=\"1\" class=\"dataframe\">\n",
       "  <thead>\n",
       "    <tr style=\"text-align: right;\">\n",
       "      <th></th>\n",
       "      <th>pid</th>\n",
       "      <th>TARIFF</th>\n",
       "    </tr>\n",
       "  </thead>\n",
       "  <tbody>\n",
       "    <tr>\n",
       "      <td>0</td>\n",
       "      <td>63422</td>\n",
       "      <td>TARIFF_OPTION_87</td>\n",
       "    </tr>\n",
       "    <tr>\n",
       "      <td>1</td>\n",
       "      <td>63423</td>\n",
       "      <td>TARIFF_OPTION_87</td>\n",
       "    </tr>\n",
       "    <tr>\n",
       "      <td>2</td>\n",
       "      <td>63424</td>\n",
       "      <td>TARIFF_OPTION_88</td>\n",
       "    </tr>\n",
       "    <tr>\n",
       "      <td>3</td>\n",
       "      <td>63425</td>\n",
       "      <td>TARIFF_OPTION_87</td>\n",
       "    </tr>\n",
       "    <tr>\n",
       "      <td>4</td>\n",
       "      <td>63426</td>\n",
       "      <td>TARIFF_OPTION_87</td>\n",
       "    </tr>\n",
       "    <tr>\n",
       "      <td>...</td>\n",
       "      <td>...</td>\n",
       "      <td>...</td>\n",
       "    </tr>\n",
       "    <tr>\n",
       "      <td>136942</td>\n",
       "      <td>176009</td>\n",
       "      <td>TARIFF_OPTION_87</td>\n",
       "    </tr>\n",
       "    <tr>\n",
       "      <td>136943</td>\n",
       "      <td>176010</td>\n",
       "      <td>TARIFF_OPTION_87</td>\n",
       "    </tr>\n",
       "    <tr>\n",
       "      <td>136944</td>\n",
       "      <td>176011</td>\n",
       "      <td>TARIFF_OPTION_87</td>\n",
       "    </tr>\n",
       "    <tr>\n",
       "      <td>136945</td>\n",
       "      <td>176012</td>\n",
       "      <td>TARIFF_OPTION_87</td>\n",
       "    </tr>\n",
       "    <tr>\n",
       "      <td>136946</td>\n",
       "      <td>176013</td>\n",
       "      <td>TARIFF_OPTION_87</td>\n",
       "    </tr>\n",
       "  </tbody>\n",
       "</table>\n",
       "<p>136947 rows × 2 columns</p>\n",
       "</div>"
      ],
      "text/plain": [
       "           pid            TARIFF\n",
       "0        63422  TARIFF_OPTION_87\n",
       "1        63423  TARIFF_OPTION_87\n",
       "2        63424  TARIFF_OPTION_88\n",
       "3        63425  TARIFF_OPTION_87\n",
       "4        63426  TARIFF_OPTION_87\n",
       "...        ...               ...\n",
       "136942  176009  TARIFF_OPTION_87\n",
       "136943  176010  TARIFF_OPTION_87\n",
       "136944  176011  TARIFF_OPTION_87\n",
       "136945  176012  TARIFF_OPTION_87\n",
       "136946  176013  TARIFF_OPTION_87\n",
       "\n",
       "[136947 rows x 2 columns]"
      ]
     },
     "execution_count": 13,
     "metadata": {},
     "output_type": "execute_result"
    }
   ],
   "source": [
    "tariffs"
   ]
  },
  {
   "cell_type": "code",
   "execution_count": 14,
   "metadata": {},
   "outputs": [],
   "source": [
    "channels = pd.read_csv(r\"channels.csv\")"
   ]
  },
  {
   "cell_type": "code",
   "execution_count": 15,
   "metadata": {},
   "outputs": [
    {
     "data": {
      "text/html": [
       "<div>\n",
       "<style scoped>\n",
       "    .dataframe tbody tr th:only-of-type {\n",
       "        vertical-align: middle;\n",
       "    }\n",
       "\n",
       "    .dataframe tbody tr th {\n",
       "        vertical-align: top;\n",
       "    }\n",
       "\n",
       "    .dataframe thead th {\n",
       "        text-align: right;\n",
       "    }\n",
       "</style>\n",
       "<table border=\"1\" class=\"dataframe\">\n",
       "  <thead>\n",
       "    <tr style=\"text-align: right;\">\n",
       "      <th></th>\n",
       "      <th>pid</th>\n",
       "      <th>CHANNEL</th>\n",
       "    </tr>\n",
       "  </thead>\n",
       "  <tbody>\n",
       "    <tr>\n",
       "      <td>0</td>\n",
       "      <td>61</td>\n",
       "      <td>Onlineshop</td>\n",
       "    </tr>\n",
       "    <tr>\n",
       "      <td>1</td>\n",
       "      <td>142</td>\n",
       "      <td>Onlineshop</td>\n",
       "    </tr>\n",
       "    <tr>\n",
       "      <td>2</td>\n",
       "      <td>194</td>\n",
       "      <td>Onlineshop</td>\n",
       "    </tr>\n",
       "    <tr>\n",
       "      <td>3</td>\n",
       "      <td>247</td>\n",
       "      <td>Onlineshop</td>\n",
       "    </tr>\n",
       "    <tr>\n",
       "      <td>4</td>\n",
       "      <td>250</td>\n",
       "      <td>Onlineshop</td>\n",
       "    </tr>\n",
       "    <tr>\n",
       "      <td>...</td>\n",
       "      <td>...</td>\n",
       "      <td>...</td>\n",
       "    </tr>\n",
       "    <tr>\n",
       "      <td>221897</td>\n",
       "      <td>241084</td>\n",
       "      <td>Telesales</td>\n",
       "    </tr>\n",
       "    <tr>\n",
       "      <td>221898</td>\n",
       "      <td>242220</td>\n",
       "      <td>Onlineshop</td>\n",
       "    </tr>\n",
       "    <tr>\n",
       "      <td>221899</td>\n",
       "      <td>248306</td>\n",
       "      <td>Onlineshop</td>\n",
       "    </tr>\n",
       "    <tr>\n",
       "      <td>221900</td>\n",
       "      <td>251575</td>\n",
       "      <td>Telesales</td>\n",
       "    </tr>\n",
       "    <tr>\n",
       "      <td>221901</td>\n",
       "      <td>254937</td>\n",
       "      <td>Onlineshop</td>\n",
       "    </tr>\n",
       "  </tbody>\n",
       "</table>\n",
       "<p>221902 rows × 2 columns</p>\n",
       "</div>"
      ],
      "text/plain": [
       "           pid     CHANNEL\n",
       "0           61  Onlineshop\n",
       "1          142  Onlineshop\n",
       "2          194  Onlineshop\n",
       "3          247  Onlineshop\n",
       "4          250  Onlineshop\n",
       "...        ...         ...\n",
       "221897  241084   Telesales\n",
       "221898  242220  Onlineshop\n",
       "221899  248306  Onlineshop\n",
       "221900  251575   Telesales\n",
       "221901  254937  Onlineshop\n",
       "\n",
       "[221902 rows x 2 columns]"
      ]
     },
     "execution_count": 15,
     "metadata": {},
     "output_type": "execute_result"
    }
   ],
   "source": [
    "channels"
   ]
  },
  {
   "cell_type": "code",
   "execution_count": 16,
   "metadata": {},
   "outputs": [],
   "source": [
    "d0 = pd.read_csv(r\"hda_dataset_uniform_random_0.csv\")"
   ]
  },
  {
   "cell_type": "code",
   "execution_count": 17,
   "metadata": {},
   "outputs": [],
   "source": [
    "d1 = pd.read_csv(r\"hda_dataset_uniform_random_1.csv\")"
   ]
  },
  {
   "cell_type": "code",
   "execution_count": 18,
   "metadata": {},
   "outputs": [],
   "source": [
    "d2 = pd.read_csv(r\"hda_dataset_uniform_random_2.csv\")"
   ]
  },
  {
   "cell_type": "code",
   "execution_count": 19,
   "metadata": {},
   "outputs": [],
   "source": [
    "d3 = pd.read_csv(r\"hda_dataset_uniform_random_3.csv\")"
   ]
  },
  {
   "cell_type": "code",
   "execution_count": 20,
   "metadata": {},
   "outputs": [],
   "source": [
    "d4 = pd.read_csv(r\"hda_dataset_uniform_random_4.csv\")"
   ]
  },
  {
   "cell_type": "code",
   "execution_count": 21,
   "metadata": {},
   "outputs": [],
   "source": [
    "d5 = pd.read_csv(r\"hda_dataset_uniform_random_5.csv\")"
   ]
  },
  {
   "cell_type": "code",
   "execution_count": 22,
   "metadata": {},
   "outputs": [],
   "source": [
    "d6 = pd.read_csv(r\"hda_dataset_uniform_random_6.csv\")"
   ]
  },
  {
   "cell_type": "code",
   "execution_count": 23,
   "metadata": {},
   "outputs": [],
   "source": [
    "d7 = pd.read_csv(r\"hda_dataset_uniform_random_7.csv\")"
   ]
  },
  {
   "cell_type": "code",
   "execution_count": 24,
   "metadata": {},
   "outputs": [
    {
     "data": {
      "text/html": [
       "<div>\n",
       "<style scoped>\n",
       "    .dataframe tbody tr th:only-of-type {\n",
       "        vertical-align: middle;\n",
       "    }\n",
       "\n",
       "    .dataframe tbody tr th {\n",
       "        vertical-align: top;\n",
       "    }\n",
       "\n",
       "    .dataframe thead th {\n",
       "        text-align: right;\n",
       "    }\n",
       "</style>\n",
       "<table border=\"1\" class=\"dataframe\">\n",
       "  <thead>\n",
       "    <tr style=\"text-align: right;\">\n",
       "      <th></th>\n",
       "      <th>case</th>\n",
       "      <th>event</th>\n",
       "      <th>ts</th>\n",
       "    </tr>\n",
       "  </thead>\n",
       "  <tbody>\n",
       "    <tr>\n",
       "      <td>0</td>\n",
       "      <td>15</td>\n",
       "      <td>Export from online shop</td>\n",
       "      <td>2018-09-02 00:09:03</td>\n",
       "    </tr>\n",
       "    <tr>\n",
       "      <td>1</td>\n",
       "      <td>15</td>\n",
       "      <td>Order imported</td>\n",
       "      <td>2018-09-02 00:22:32</td>\n",
       "    </tr>\n",
       "    <tr>\n",
       "      <td>2</td>\n",
       "      <td>15</td>\n",
       "      <td>Order checked</td>\n",
       "      <td>2018-09-02 00:23:04</td>\n",
       "    </tr>\n",
       "    <tr>\n",
       "      <td>3</td>\n",
       "      <td>15</td>\n",
       "      <td>Device hand-out</td>\n",
       "      <td>2018-09-02 00:25:50</td>\n",
       "    </tr>\n",
       "    <tr>\n",
       "      <td>4</td>\n",
       "      <td>15</td>\n",
       "      <td>Delivery approved</td>\n",
       "      <td>2018-09-02 00:25:50</td>\n",
       "    </tr>\n",
       "    <tr>\n",
       "      <td>...</td>\n",
       "      <td>...</td>\n",
       "      <td>...</td>\n",
       "      <td>...</td>\n",
       "    </tr>\n",
       "    <tr>\n",
       "      <td>226806</td>\n",
       "      <td>263218</td>\n",
       "      <td>Documents complete (ERP)</td>\n",
       "      <td>2018-12-03 11:25:01</td>\n",
       "    </tr>\n",
       "    <tr>\n",
       "      <td>226807</td>\n",
       "      <td>263218</td>\n",
       "      <td>Goods in arrears</td>\n",
       "      <td>2018-12-03 11:27:18</td>\n",
       "    </tr>\n",
       "    <tr>\n",
       "      <td>226808</td>\n",
       "      <td>263218</td>\n",
       "      <td>Ready to deliver</td>\n",
       "      <td>2018-12-05 15:56:22</td>\n",
       "    </tr>\n",
       "    <tr>\n",
       "      <td>226809</td>\n",
       "      <td>263218</td>\n",
       "      <td>Delivered</td>\n",
       "      <td>2018-12-06 09:49:28</td>\n",
       "    </tr>\n",
       "    <tr>\n",
       "      <td>226810</td>\n",
       "      <td>263218</td>\n",
       "      <td>IMEI correction</td>\n",
       "      <td>2018-12-06 09:51:55</td>\n",
       "    </tr>\n",
       "  </tbody>\n",
       "</table>\n",
       "<p>226811 rows × 3 columns</p>\n",
       "</div>"
      ],
      "text/plain": [
       "          case                     event                   ts\n",
       "0           15   Export from online shop  2018-09-02 00:09:03\n",
       "1           15            Order imported  2018-09-02 00:22:32\n",
       "2           15             Order checked  2018-09-02 00:23:04\n",
       "3           15           Device hand-out  2018-09-02 00:25:50\n",
       "4           15         Delivery approved  2018-09-02 00:25:50\n",
       "...        ...                       ...                  ...\n",
       "226806  263218  Documents complete (ERP)  2018-12-03 11:25:01\n",
       "226807  263218          Goods in arrears  2018-12-03 11:27:18\n",
       "226808  263218          Ready to deliver  2018-12-05 15:56:22\n",
       "226809  263218                 Delivered  2018-12-06 09:49:28\n",
       "226810  263218           IMEI correction  2018-12-06 09:51:55\n",
       "\n",
       "[226811 rows x 3 columns]"
      ]
     },
     "execution_count": 24,
     "metadata": {},
     "output_type": "execute_result"
    }
   ],
   "source": [
    "d0\n",
    "d1\n",
    "d2\n",
    "d3\n",
    "d4\n",
    "d5\n",
    "d6\n"
   ]
  },
  {
   "cell_type": "code",
   "execution_count": 25,
   "metadata": {},
   "outputs": [
    {
     "data": {
      "text/plain": [
       "0              2\n",
       "1              2\n",
       "2              2\n",
       "3              2\n",
       "4              2\n",
       "           ...  \n",
       "226394    263244\n",
       "226395    263244\n",
       "226396    263244\n",
       "226397    263244\n",
       "226398    263244\n",
       "Name: case, Length: 226399, dtype: int64"
      ]
     },
     "execution_count": 25,
     "metadata": {},
     "output_type": "execute_result"
    }
   ],
   "source": [
    "d0.case"
   ]
  },
  {
   "cell_type": "code",
   "execution_count": 26,
   "metadata": {},
   "outputs": [
    {
     "data": {
      "text/plain": [
       "0         2018-09-02 00:02:33\n",
       "1         2018-09-02 00:02:46\n",
       "2         2018-09-03 14:26:03\n",
       "3         2018-09-03 14:27:56\n",
       "4         2018-09-03 14:27:56\n",
       "                 ...         \n",
       "226394    2018-12-03 11:26:21\n",
       "226395    2018-12-03 11:28:59\n",
       "226396    2018-12-05 15:23:11\n",
       "226397    2018-12-05 19:06:27\n",
       "226398    2018-12-05 19:19:30\n",
       "Name: ts, Length: 226399, dtype: object"
      ]
     },
     "execution_count": 26,
     "metadata": {},
     "output_type": "execute_result"
    }
   ],
   "source": [
    "d0.ts"
   ]
  },
  {
   "cell_type": "code",
   "execution_count": null,
   "metadata": {},
   "outputs": [
    {
     "data": {
      "text/plain": [
       "<function matplotlib.pyplot.show(*args, **kw)>"
      ]
     },
     "execution_count": 27,
     "metadata": {},
     "output_type": "execute_result"
    }
   ],
   "source": [
    "plt.plot (d0.ts, d0.case, 'o')\n",
    "plt.title(\"Dataset\")\n",
    "plt.xlabel(\"ts\")\n",
    "plt.ylabel(\"case\")\n",
    "plt.show"
   ]
  },
  {
   "cell_type": "code",
   "execution_count": null,
   "metadata": {},
   "outputs": [],
   "source": []
  }
 ],
 "metadata": {
  "kernelspec": {
   "display_name": "Python 3",
   "language": "python",
   "name": "python3"
  },
  "language_info": {
   "codemirror_mode": {
    "name": "ipython",
    "version": 3
   },
   "file_extension": ".py",
   "mimetype": "text/x-python",
   "name": "python",
   "nbconvert_exporter": "python",
   "pygments_lexer": "ipython3",
   "version": "3.7.4"
  }
 },
 "nbformat": 4,
 "nbformat_minor": 2
}
