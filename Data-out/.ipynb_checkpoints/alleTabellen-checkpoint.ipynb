{
 "cells": [
  {
   "cell_type": "markdown",
   "metadata": {},
   "source": [
    "# PSE WS 2019\n",
    "#### Tai Linh Du (754201)\n",
    "#### Firat Turgut-Wenzel (755758)"
   ]
  },
  {
   "cell_type": "markdown",
   "metadata": {},
   "source": [
    "## <a name=\"table\">Table of Contents</a> \n",
    "\n",
    "1. [Functions](#functions)  \n",
    "<br>\n",
    "2. [Preprocess Data](#preprocess)  \n",
    "<br>    \n",
    "3. [EDA](#eda)  \n",
    "<br>\n",
    "4. [Clustering](#clustering)      \n",
    "<br>    \n",
    "5. [Visualization](#visualization)  \n",
    "\n",
    "\n",
    "    \n",
    "    "
   ]
  },
  {
   "cell_type": "markdown",
   "metadata": {},
   "source": [
    "# <a name=\"functions\">1. Functions</a> \n",
    "[Back to Table of Contents](#table)"
   ]
  },
  {
   "cell_type": "code",
   "execution_count": 204,
   "metadata": {},
   "outputs": [],
   "source": [
    "import numpy as np\n",
    "import pandas as pd\n",
    "\n",
    "\n",
    "# Kmeans Clustering\n",
    "from sklearn import preprocessing\n",
    "from sklearn.cluster import KMeans\n",
    "from sklearn.datasets import make_blobs\n",
    "\n",
    "\n",
    "# Visualization\n",
    "import seaborn as sns\n",
    "import matplotlib.pyplot as plt\n",
    "import plotly.express as px\n",
    "\n",
    "# Dimensionality reduction\n",
    "from sklearn.manifold import TSNE\n",
    "from sklearn.decomposition import PCA"
   ]
  },
  {
   "cell_type": "code",
   "execution_count": 205,
   "metadata": {},
   "outputs": [],
   "source": [
    "\n",
    "def prozess_data_for_clustering_sims_tariffs(df):\n",
    "    \n",
    "    df = df.fillna(value=-1)\n",
    "    df = df.drop('case', 1)\n",
    "    df = df.drop('event', 1)\n",
    "    df = df.drop('BRAND', 1)\n",
    "    df = df.drop('ts', 1)\n",
    "    return df.drop('pid', 1)\n",
    "\n",
    "def prozess_data_for_clustering_sims_brands(df):\n",
    "    \n",
    "    \n",
    "    df = df.drop('case', 1)\n",
    "    df = df.drop('event', 1)\n",
    "    df = df.drop('ts', 1)\n",
    "    df = df.drop('TARIFF', 1)\n",
    "    df = df.fillna(value=-1)\n",
    "    return df.drop('pid', 1)\n",
    "\n",
    "def prozess_data_for_clustering_tariffs_brands(df):\n",
    "    \n",
    "    df = df.fillna(value=-1)\n",
    "    df = df.drop('case', 1)\n",
    "    df = df.drop('event', 1)\n",
    "    df = df.drop('SIM', 1)\n",
    "    df = df.drop('ts', 1)\n",
    "    return df.drop('pid', 1)\n",
    "\n",
    "# use PCA to dimensionality reduction \n",
    "def prepare_pca(n_components, data, kmeans_labels):\n",
    "    names = ['x', 'y', 'z']\n",
    "    matrix = PCA(n_components=n_components).fit_transform(data)\n",
    "    df_matrix = pd.DataFrame(matrix)\n",
    "    df_matrix.rename({i:names[i] for i in range(n_components)}, axis=1, inplace=True)\n",
    "    df_matrix['labels'] = kmeans_labels\n",
    "    \n",
    "    return df_matrix"
   ]
  },
  {
   "cell_type": "markdown",
   "metadata": {},
   "source": [
    "# <a name=\"preprocess\">2. Preprocess Data</a> \n",
    "[Back to Table of Contents](#table)\n",
    "\n",
    "Sim\n",
    "* SIM\n",
    "\n",
    "\n",
    "Tariff\n",
    "* TARIFF\n",
    "\n",
    "Brand\n",
    "* BRAND\n",
    "\n",
    "Event \n",
    "* case\n",
    "* event\n",
    "* ts\n"
   ]
  },
  {
   "cell_type": "code",
   "execution_count": 206,
   "metadata": {
    "scrolled": true
   },
   "outputs": [],
   "source": [
    "#BRANDS\n",
    "brands = pd.read_csv(r\"brands.csv\")\n",
    "#brands.duplicated()\n",
    "\n",
    "#delte first 6 chars from String\n",
    "brands['BRAND'] = brands['BRAND'].str[6:]"
   ]
  },
  {
   "cell_type": "code",
   "execution_count": 207,
   "metadata": {},
   "outputs": [],
   "source": [
    "sims = pd.read_csv(r\"sim.csv\")\n",
    "\n",
    "#delte first 4 chars from String\n",
    "sims['SIM'] = sims['SIM'].str[4:]"
   ]
  },
  {
   "cell_type": "code",
   "execution_count": 208,
   "metadata": {},
   "outputs": [],
   "source": [
    "tariffs = pd.read_csv(r\"tariffs.csv\")\n",
    "\n",
    "#delte first 14 chars from String\n",
    "tariffs['TARIFF'] = tariffs['TARIFF'].str[14:]"
   ]
  },
  {
   "cell_type": "code",
   "execution_count": 209,
   "metadata": {},
   "outputs": [],
   "source": [
    "channels = pd.read_csv(r\"channels.csv\")\n"
   ]
  },
  {
   "cell_type": "code",
   "execution_count": 210,
   "metadata": {
    "scrolled": false
   },
   "outputs": [],
   "source": [
    "d0 = pd.read_csv(r\"hda_dataset_uniform_random_0.csv\")\n"
   ]
  },
  {
   "cell_type": "code",
   "execution_count": 211,
   "metadata": {},
   "outputs": [],
   "source": [
    "d1 = pd.read_csv(r\"hda_dataset_uniform_random_1.csv\")\n"
   ]
  },
  {
   "cell_type": "code",
   "execution_count": 212,
   "metadata": {},
   "outputs": [],
   "source": [
    "d2 = pd.read_csv(r\"hda_dataset_uniform_random_2.csv\")\n"
   ]
  },
  {
   "cell_type": "code",
   "execution_count": 213,
   "metadata": {},
   "outputs": [],
   "source": [
    "d3 = pd.read_csv(r\"hda_dataset_uniform_random_3.csv\")\n"
   ]
  },
  {
   "cell_type": "code",
   "execution_count": 214,
   "metadata": {},
   "outputs": [],
   "source": [
    "d4 = pd.read_csv(r\"hda_dataset_uniform_random_4.csv\")\n"
   ]
  },
  {
   "cell_type": "code",
   "execution_count": 215,
   "metadata": {},
   "outputs": [],
   "source": [
    "d5 = pd.read_csv(r\"hda_dataset_uniform_random_5.csv\")\n"
   ]
  },
  {
   "cell_type": "code",
   "execution_count": 216,
   "metadata": {},
   "outputs": [],
   "source": [
    "d6 = pd.read_csv(r\"hda_dataset_uniform_random_6.csv\")\n"
   ]
  },
  {
   "cell_type": "code",
   "execution_count": 217,
   "metadata": {},
   "outputs": [],
   "source": [
    "d7 = pd.read_csv(r\"hda_dataset_uniform_random_7.csv\")\n"
   ]
  },
  {
   "cell_type": "code",
   "execution_count": null,
   "metadata": {},
   "outputs": [],
   "source": [
    "# appen dataframes into one dataframe\n",
    "dSum = d0;\n",
    "dSum = dSum.append(d1);\n",
    "dSum = dSum.append(d2);\n",
    "dSum = dSum.append(d3);\n",
    "dSum = dSum.append(d4);\n",
    "dSum = dSum.append(d5);\n",
    "dSum = dSum.append(d6);\n",
    "dSum = dSum.append(d7);\n",
    "\n",
    "\n",
    "#case muss gedroppt sein damit es funktioniert?\n",
    "dSumDate = dSum.drop(columns=['case'])\n",
    "for index,row in dSumDate.iterrows():\n",
    "     row['ts'] = pd.to_datetime(row['ts']).date()\n",
    "\n",
    "dSum = dSum.drop(columns=['ts'])\n",
    "dSum['ts'] = dSumDate.ts\n",
    "dSum\n",
    "\n"
   ]
  },
  {
   "cell_type": "code",
   "execution_count": null,
   "metadata": {},
   "outputs": [],
   "source": [
    "# join 3 dataset tariffs, sims and brands\n",
    "tariffs_sims = pd.merge( tariffs, sims, left_on='pid', right_on='pid', how='outer')\n",
    "tariffs_sims_brands = pd.merge( tariffs_sims, brands, left_on='pid', right_on='pid', how='outer')\n",
    "tariffs_sims_brands.drop_duplicates( subset = ['pid'], keep = \"first\", inplace = True)\n",
    "#tariffs_sims_brands\n",
    "\n",
    "\n",
    "tariffs_sims_brands_with_event = pd.merge( tariffs_sims_brands, dSum, left_on='pid', right_on='case', how='outer')\n",
    "\n",
    "# filter the event\n",
    "tariffs_sims_brands_with_event = tariffs_sims_brands_with_event[(tariffs_sims_brands_with_event.event == \"Invoiced\") | (tariffs_sims_brands_with_event.event == \"Processing return delivery\")]\n",
    "\n",
    "# drop duplicate row\n",
    "tariffs_sims_brands_with_event.drop_duplicates( subset = ['case','event'], keep = \"first\", inplace = True)\n",
    "tariffs_sims_brands_with_event.drop_duplicates(subset =\"case\", keep = False, inplace = True)\n",
    "\n",
    "\n",
    "dataset_for_clustering_sims_tariffs = prozess_data_for_clustering_sims_tariffs(tariffs_sims_brands_with_event)\n",
    "\n",
    "dataset_for_clustering_sims_brands = prozess_data_for_clustering_sims_brands(tariffs_sims_brands_with_event)\n",
    " \n",
    "dataset_for_clustering_tariffs_brands = prozess_data_for_clustering_tariffs_brands(tariffs_sims_brands_with_event)\n",
    "\n",
    "tariffs_sims_brands_with_event"
   ]
  },
  {
   "cell_type": "markdown",
   "metadata": {},
   "source": [
    "# <a name=\"eda\">3. EDA</a> \n",
    "[Back to Table of Contents](#table)"
   ]
  },
  {
   "cell_type": "code",
   "execution_count": null,
   "metadata": {},
   "outputs": [],
   "source": [
    "#BRAND\n",
    "brandsWithCountNumberPerDay =  tariffs_sims_brands_with_event.groupby(['BRAND','ts']).ts.agg('count').to_frame('count').reset_index()\n",
    "brandsWithCountNumberPerDay\n",
    "\n",
    "fig = px.line(brandsWithCountNumberPerDay, x='ts', y='count', color='BRAND')\n",
    "fig.show()"
   ]
  },
  {
   "cell_type": "code",
   "execution_count": null,
   "metadata": {},
   "outputs": [],
   "source": [
    "#TARIF\n",
    "TariffsWithCountNumberPerDay =  tariffs_sims_brands_with_event.groupby(['TARIFF','ts']).ts.agg('count').to_frame('count').reset_index()\n",
    "#TariffsWithCountNumberPerDay\n",
    "\n",
    "fig = px.line(TariffsWithCountNumberPerDay, x='ts', y='count', color='TARIFF')\n",
    "fig.show()"
   ]
  },
  {
   "cell_type": "code",
   "execution_count": null,
   "metadata": {},
   "outputs": [],
   "source": [
    "#SIM\n",
    "SimWithCountNumberPerDay =  tariffs_sims_brands_with_event.groupby(['SIM','ts']).ts.agg('count').to_frame('count').reset_index()\n",
    "#TariffsWithCountNumberPerDay\n",
    "\n",
    "\n",
    "fig = px.line(SimWithCountNumberPerDay, x='ts', y='count', color='SIM')\n",
    "fig.show()\n"
   ]
  },
  {
   "cell_type": "code",
   "execution_count": null,
   "metadata": {},
   "outputs": [],
   "source": [
    "# 7 FAELLEN----------------------------------------------------------------------------------------------\n",
    "# 0-0-1 Just brand \n",
    "\n",
    "is_brand_without_sim_tariff =  tariffs_sims_brands_with_event['SIM'].isnull() & tariffs_sims_brands_with_event['TARIFF'].isnull() & tariffs_sims_brands_with_event['BRAND'].notnull()\n",
    "brand_without_sim_tariff = tariffs_sims_brands_with_event[is_brand_without_sim_tariff]\n",
    "\n",
    "brand_without_sim_tariff\n"
   ]
  },
  {
   "cell_type": "code",
   "execution_count": null,
   "metadata": {},
   "outputs": [],
   "source": [
    "# 1-0-0 Just Tariff\n",
    "\n",
    "is_tarif_without_sim_and_brand =  tariffs_sims_brands_with_event['SIM'].isnull() & tariffs_sims_brands_with_event['BRAND'].isnull() & tariffs_sims_brands_with_event['TARIFF'].notnull()\n",
    "\n",
    "tarif_without_sim_and_brand = tariffs_sims_brands_with_event[is_tarif_without_sim_and_brand]\n",
    "\n",
    "tarif_without_sim_and_brand\n"
   ]
  },
  {
   "cell_type": "code",
   "execution_count": null,
   "metadata": {
    "scrolled": true
   },
   "outputs": [],
   "source": [
    "# 1-0-1 Tariff - without Sim - with Brand\n",
    "\n",
    "is_tarif_without_sim_and_with_brand_event =  tariffs_sims_brands_with_event['SIM'].isnull() & tariffs_sims_brands_with_event['BRAND'].notnull() & tariffs_sims_brands_with_event['TARIFF'].notnull()\n",
    "tarif_without_sim_and_with_brand_with_event = tariffs_sims_brands_with_event[is_tarif_without_sim_and_with_brand_event]\n",
    "\n",
    "#tarif_without_sim_and_with_brand\n",
    "tarif_without_sim_and_with_brand_with_event\n"
   ]
  },
  {
   "cell_type": "code",
   "execution_count": null,
   "metadata": {},
   "outputs": [],
   "source": [
    "# 1-0-1 tariff brand - Count General\n",
    "bst101CountGeneral = tarif_without_sim_and_with_brand_with_event.groupby(['TARIFF', 'BRAND']).TARIFF.agg('count').to_frame('count').reset_index()\n",
    "bst101CountGeneral[\"tariff_brand\"] = bst101CountGeneral[\"TARIFF\"].map(str) + \"_\" + bst101CountGeneral[\"BRAND\"]\n",
    "\n",
    "Fig101CountGeneral = px.scatter(bst101CountGeneral, x='TARIFF', y='count', color='tariff_brand')\n",
    "Fig101CountGeneral"
   ]
  },
  {
   "cell_type": "code",
   "execution_count": null,
   "metadata": {},
   "outputs": [],
   "source": [
    "# 1-0-1 tariff brand - Count per day\n",
    "bst101CountPerDay = tarif_without_sim_and_with_brand_with_event.groupby(['TARIFF', 'BRAND', 'ts']).TARIFF.agg('count').to_frame('count').reset_index()\n",
    "bst101CountPerDay[\"tariff_brand\"] = bst101CountPerDay[\"TARIFF\"].map(str) + \"_\" + bst101CountPerDay[\"BRAND\"]\n",
    "\n",
    "Fig101CountPerDay = px.scatter(bst101CountPerDay, x='ts', y='count', color='tariff_brand')\n",
    "Fig101CountPerDay"
   ]
  },
  {
   "cell_type": "code",
   "execution_count": null,
   "metadata": {},
   "outputs": [],
   "source": [
    "# 1-1-0 Tarif - Sim - Without Brand\n",
    "is_tarif_sim_without_brand_with_event =  tariffs_sims_brands_with_event['SIM'].notnull() & tariffs_sims_brands_with_event['BRAND'].isnull() & tariffs_sims_brands_with_event['TARIFF'].notnull()\n",
    "\n",
    "tarif_sim_without_brand_with_event = tariffs_sims_brands_with_event[is_tarif_sim_without_brand_with_event]\n",
    "\n",
    "tarif_sim_without_brand_with_event"
   ]
  },
  {
   "cell_type": "code",
   "execution_count": null,
   "metadata": {},
   "outputs": [],
   "source": [
    "# 0-1-1 Without Tariff - with Sim - with Brand\n",
    "\n",
    "\n",
    "\n",
    "#filter\n",
    "is_sim_brands_without_tariffs_with_event =  tariffs_sims_brands_with_event['SIM'].notnull() & tariffs_sims_brands_with_event['BRAND'].notnull() & tariffs_sims_brands_with_event['TARIFF'].isnull()\n",
    "\n",
    "sim_brands_without_tariffs_with_event = tariffs_sims_brands_with_event[is_sim_brands_without_tariffs_with_event]\n",
    "sim_brands_without_tariffs_with_event\n"
   ]
  },
  {
   "cell_type": "code",
   "execution_count": null,
   "metadata": {},
   "outputs": [],
   "source": [
    "# 0-1-1 count general\n",
    "\n",
    "bst011CountGeneral = sim_brands_without_tariffs_with_event.groupby(['SIM', 'BRAND']).SIM.agg('count').to_frame('count').reset_index()\n",
    "bst011CountGeneral[\"sim_brand\"] = bst011CountGeneral[\"SIM\"].map(str) + \"_\" + bst011CountGeneral[\"BRAND\"]\n",
    "\n",
    "Fig011CountGeneral = px.scatter(bst011CountGeneral, x='SIM', y='count', color='sim_brand')\n",
    "Fig011CountGeneral"
   ]
  },
  {
   "cell_type": "code",
   "execution_count": null,
   "metadata": {},
   "outputs": [],
   "source": [
    "#sim brand 011 count per day\n",
    "bst011perDay = sim_brands_without_tariffs_with_event.groupby(['SIM', 'BRAND', 'ts']).SIM.agg('count').to_frame('count').reset_index()\n",
    "\n",
    "bst011perDay['sim_brand'] = bst011perDay[\"SIM\"].map(str) + \"_\" + bst011perDay[\"BRAND\"]\n",
    "\n",
    "Fig011perDay = px.scatter(bst011perDay, x='ts', y='count', color='sim_brand')\n",
    "Fig011perDay"
   ]
  },
  {
   "cell_type": "code",
   "execution_count": null,
   "metadata": {},
   "outputs": [],
   "source": [
    "# 0-1-0 Without Tariff - with Sim - without Brand\n",
    "\n",
    "#filter\n",
    "is_sim_without_brands_without_tariffs =  tariffs_sims_brands['TARIFF'].isnull() & tariffs_sims_brands['BRAND'].isnull() & tariffs_sims_brands['SIM'].notnull()\n",
    "\n",
    "sim_without_brands_without_tariffs = tariffs_sims_brands[is_sim_without_brands_without_tariffs]\n",
    "sim_without_brands_without_tariffs\n"
   ]
  },
  {
   "cell_type": "code",
   "execution_count": null,
   "metadata": {},
   "outputs": [],
   "source": [
    "# 1-1-1 Tarif-Sim-Brand\n",
    "#filter\n",
    "is_sim_with_brands_with_tariffs_with_event =   tariffs_sims_brands_with_event['TARIFF'].notnull() & tariffs_sims_brands_with_event['BRAND'].notnull() & tariffs_sims_brands_with_event['SIM'].notnull()\n",
    "\n",
    "sim_brands_tariffs_with_event = tariffs_sims_brands_with_event[is_sim_with_brands_with_tariffs_with_event]\n",
    "sim_brands_tariffs_with_event"
   ]
  },
  {
   "cell_type": "code",
   "execution_count": null,
   "metadata": {},
   "outputs": [],
   "source": [
    "# 1-1-1 tariff brands sim - count general\n",
    "bst111CountGeneral = sim_brands_tariffs_with_event.groupby(['SIM', 'BRAND', 'TARIFF']).SIM.agg('count').to_frame('count').reset_index()\n",
    "bst111CountGeneral[\"tariff_sim_brand\"] = bst111CountGeneral[\"TARIFF\"].map(str) + \"_\" + bst111CountGeneral[\"SIM\"] + \"_\" + bst111CountGeneral[\"BRAND\"]\n",
    "\n",
    "\n",
    "Fig111 = px.scatter(bst111CountGeneral, x='BRAND', y='count', color='tariff_sim_brand')\n",
    "Fig111"
   ]
  },
  {
   "cell_type": "code",
   "execution_count": null,
   "metadata": {},
   "outputs": [],
   "source": [
    "# 1-1-1 tariff sim brand - count per day\n",
    "bst111perDay = sim_brands_tariffs_with_event.groupby(['TARIFF','SIM', 'BRAND', 'ts']).SIM.agg('count').to_frame('count').reset_index()\n",
    "\n",
    "bst111perDay['tarif_sim_brand'] = bst111perDay[\"TARIFF\"].map(str) + \"_\" + bst111perDay[\"SIM\"] + \"_\" + bst111perDay[\"BRAND\"]\n",
    "\n",
    "Fig111perDay = px.scatter(bst111perDay, x='ts', y='count', color='tarif_sim_brand')\n",
    "Fig111perDay"
   ]
  },
  {
   "cell_type": "code",
   "execution_count": null,
   "metadata": {},
   "outputs": [],
   "source": [
    "#TARIF AND SIM\n",
    "#merge two dataframes: Tarifs and dSum\n",
    "dJoinTariffsAndDsum = pd.merge( tariffs, dSum, left_on='pid', right_on='case')\n",
    "dJoinTarifsDsumAndSim =  pd.merge( dJoinTariffsAndDsum, sims, left_on='pid', right_on='pid')\n",
    "#filter to remove unneeded columns\n",
    "dJoinTarifsDsumAndSim =  dJoinTarifsDsumAndSim.filter( items = ['SIM','TARIFF','ts'])\n",
    "\n",
    "#convert time string to datetime\n",
    "for index,row in dJoinTarifsDsumAndSim.iterrows():\n",
    "     row['ts'] = pd.to_datetime(row['ts']).date()\n",
    "\n",
    "fig = px.scatter_3d(dJoinTarifsDsumAndSim, x='ts', y='SIM', z='TARIFF',\n",
    "              color='SIM')\n",
    "fig.show()\n",
    "\n"
   ]
  },
  {
   "cell_type": "code",
   "execution_count": null,
   "metadata": {},
   "outputs": [],
   "source": [
    "fig2 = px.scatter_3d(dJoinTarifsDsumAndSim, x='ts', y='SIM', z='TARIFF',\n",
    "              color='TARIFF')\n",
    "#fig2.show()\n",
    "dJoinTarifsDsumAndSim"
   ]
  },
  {
   "cell_type": "markdown",
   "metadata": {},
   "source": [
    "# <a name=\"clustering\">4. Clustering</a> \n",
    "[Back to Table of Contents](#table)"
   ]
  },
  {
   "cell_type": "code",
   "execution_count": null,
   "metadata": {},
   "outputs": [],
   "source": [
    "#-------------- K-mean algo---------------\n"
   ]
  },
  {
   "cell_type": "code",
   "execution_count": null,
   "metadata": {},
   "outputs": [],
   "source": [
    "# Clustering Sims-Tariffs-Brands\n",
    "\n",
    "# Elbow method to find out which k is the best for the k-means clustering\n",
    "\n",
    "# SIM - TARIFF\n",
    "normalizedVectorsTariffSim = preprocessing.normalize(dataset_for_clustering_sims_tariffs)\n",
    "\n",
    "scoresTariffSim = [KMeans(n_clusters=i+2).fit(normalizedVectorsTariffSim).inertia_ for i in range(10)]\n",
    "sns.lineplot(np.arange(2, 12), scores)\n",
    "plt.xlabel('Number of clusters')\n",
    "plt.ylabel(\"Inertia\")\n",
    "plt.title(\"Inertia of k-Means versus number of clusters\")"
   ]
  },
  {
   "cell_type": "code",
   "execution_count": null,
   "metadata": {},
   "outputs": [],
   "source": [
    "# Crate a kmeans objects\n",
    "kmeansTariffSim = KMeans(n_clusters=3)"
   ]
  },
  {
   "cell_type": "code",
   "execution_count": null,
   "metadata": {},
   "outputs": [],
   "source": [
    "# fit the Kmeans object to the dataset\n",
    "kmeansTariffSim.fit(normalizedVectorsTariffSim)"
   ]
  },
  {
   "cell_type": "code",
   "execution_count": null,
   "metadata": {},
   "outputs": [],
   "source": []
  },
  {
   "cell_type": "code",
   "execution_count": null,
   "metadata": {},
   "outputs": [],
   "source": [
    "pca_Tariff_Sim = prepare_pca(2, normalizedVectorsTariffSim, kmeansTariffSim.labels_)\n",
    "sns.scatterplot(x=pca_Tariff_Sim.x, y=pca_Tariff_Sim.y)"
   ]
  },
  {
   "cell_type": "code",
   "execution_count": null,
   "metadata": {},
   "outputs": [],
   "source": [
    "\n",
    "sns.scatterplot(x=pca_Tariff_Sim.x, y=pca_Tariff_Sim.y, hue=pca_df.labels)"
   ]
  },
  {
   "cell_type": "code",
   "execution_count": null,
   "metadata": {},
   "outputs": [],
   "source": []
  },
  {
   "cell_type": "code",
   "execution_count": null,
   "metadata": {},
   "outputs": [],
   "source": []
  },
  {
   "cell_type": "code",
   "execution_count": null,
   "metadata": {},
   "outputs": [],
   "source": []
  }
 ],
 "metadata": {
  "kernelspec": {
   "display_name": "Python 3",
   "language": "python",
   "name": "python3"
  },
  "language_info": {
   "codemirror_mode": {
    "name": "ipython",
    "version": 3
   },
   "file_extension": ".py",
   "mimetype": "text/x-python",
   "name": "python",
   "nbconvert_exporter": "python",
   "pygments_lexer": "ipython3",
   "version": "3.7.4"
  }
 },
 "nbformat": 4,
 "nbformat_minor": 2
}
