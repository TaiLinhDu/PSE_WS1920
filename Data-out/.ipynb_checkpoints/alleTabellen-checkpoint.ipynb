{
 "cells": [
  {
   "cell_type": "code",
   "execution_count": 12,
   "metadata": {},
   "outputs": [
    {
     "name": "stdout",
     "output_type": "stream",
     "text": [
      "hello world\n"
     ]
    }
   ],
   "source": [
    "print(\"hello world\")"
   ]
  },
  {
   "cell_type": "code",
   "execution_count": 13,
   "metadata": {},
   "outputs": [],
   "source": [
    "import numpy as np\n",
    "import pandas as pd\n",
    "import matplotlib.pyplot as plt\n",
    "import plotly.graph_objects as go"
   ]
  },
  {
   "cell_type": "code",
   "execution_count": 14,
   "metadata": {},
   "outputs": [
    {
     "data": {
      "text/html": [
       "<div>\n",
       "<style scoped>\n",
       "    .dataframe tbody tr th:only-of-type {\n",
       "        vertical-align: middle;\n",
       "    }\n",
       "\n",
       "    .dataframe tbody tr th {\n",
       "        vertical-align: top;\n",
       "    }\n",
       "\n",
       "    .dataframe thead th {\n",
       "        text-align: right;\n",
       "    }\n",
       "</style>\n",
       "<table border=\"1\" class=\"dataframe\">\n",
       "  <thead>\n",
       "    <tr style=\"text-align: right;\">\n",
       "      <th></th>\n",
       "      <th>pid</th>\n",
       "      <th>BRAND</th>\n",
       "    </tr>\n",
       "  </thead>\n",
       "  <tbody>\n",
       "    <tr>\n",
       "      <td>0</td>\n",
       "      <td>66605</td>\n",
       "      <td>BRAND_0</td>\n",
       "    </tr>\n",
       "    <tr>\n",
       "      <td>1</td>\n",
       "      <td>66715</td>\n",
       "      <td>BRAND_0</td>\n",
       "    </tr>\n",
       "    <tr>\n",
       "      <td>2</td>\n",
       "      <td>66756</td>\n",
       "      <td>BRAND_0</td>\n",
       "    </tr>\n",
       "    <tr>\n",
       "      <td>3</td>\n",
       "      <td>66774</td>\n",
       "      <td>BRAND_0</td>\n",
       "    </tr>\n",
       "    <tr>\n",
       "      <td>4</td>\n",
       "      <td>66794</td>\n",
       "      <td>BRAND_0</td>\n",
       "    </tr>\n",
       "    <tr>\n",
       "      <td>...</td>\n",
       "      <td>...</td>\n",
       "      <td>...</td>\n",
       "    </tr>\n",
       "    <tr>\n",
       "      <td>263248</td>\n",
       "      <td>241084</td>\n",
       "      <td>BRAND_9</td>\n",
       "    </tr>\n",
       "    <tr>\n",
       "      <td>263249</td>\n",
       "      <td>242220</td>\n",
       "      <td>BRAND_9</td>\n",
       "    </tr>\n",
       "    <tr>\n",
       "      <td>263250</td>\n",
       "      <td>248306</td>\n",
       "      <td>BRAND_9</td>\n",
       "    </tr>\n",
       "    <tr>\n",
       "      <td>263251</td>\n",
       "      <td>251575</td>\n",
       "      <td>BRAND_9</td>\n",
       "    </tr>\n",
       "    <tr>\n",
       "      <td>263252</td>\n",
       "      <td>254937</td>\n",
       "      <td>BRAND_9</td>\n",
       "    </tr>\n",
       "  </tbody>\n",
       "</table>\n",
       "<p>263253 rows × 2 columns</p>\n",
       "</div>"
      ],
      "text/plain": [
       "           pid    BRAND\n",
       "0        66605  BRAND_0\n",
       "1        66715  BRAND_0\n",
       "2        66756  BRAND_0\n",
       "3        66774  BRAND_0\n",
       "4        66794  BRAND_0\n",
       "...        ...      ...\n",
       "263248  241084  BRAND_9\n",
       "263249  242220  BRAND_9\n",
       "263250  248306  BRAND_9\n",
       "263251  251575  BRAND_9\n",
       "263252  254937  BRAND_9\n",
       "\n",
       "[263253 rows x 2 columns]"
      ]
     },
     "execution_count": 14,
     "metadata": {},
     "output_type": "execute_result"
    }
   ],
   "source": [
    "brands = pd.read_csv(r\"brands.csv\")\n",
    "brands.duplicated()\n",
    "brands"
   ]
  },
  {
   "cell_type": "code",
   "execution_count": 15,
   "metadata": {},
   "outputs": [
    {
     "data": {
      "text/html": [
       "<div>\n",
       "<style scoped>\n",
       "    .dataframe tbody tr th:only-of-type {\n",
       "        vertical-align: middle;\n",
       "    }\n",
       "\n",
       "    .dataframe tbody tr th {\n",
       "        vertical-align: top;\n",
       "    }\n",
       "\n",
       "    .dataframe thead th {\n",
       "        text-align: right;\n",
       "    }\n",
       "</style>\n",
       "<table border=\"1\" class=\"dataframe\">\n",
       "  <thead>\n",
       "    <tr style=\"text-align: right;\">\n",
       "      <th></th>\n",
       "      <th>pid</th>\n",
       "      <th>SIM</th>\n",
       "    </tr>\n",
       "  </thead>\n",
       "  <tbody>\n",
       "    <tr>\n",
       "      <td>0</td>\n",
       "      <td>63422</td>\n",
       "      <td>SIM_14</td>\n",
       "    </tr>\n",
       "    <tr>\n",
       "      <td>1</td>\n",
       "      <td>63423</td>\n",
       "      <td>SIM_14</td>\n",
       "    </tr>\n",
       "    <tr>\n",
       "      <td>2</td>\n",
       "      <td>63424</td>\n",
       "      <td>SIM_14</td>\n",
       "    </tr>\n",
       "    <tr>\n",
       "      <td>3</td>\n",
       "      <td>63425</td>\n",
       "      <td>SIM_14</td>\n",
       "    </tr>\n",
       "    <tr>\n",
       "      <td>4</td>\n",
       "      <td>63427</td>\n",
       "      <td>SIM_36</td>\n",
       "    </tr>\n",
       "    <tr>\n",
       "      <td>...</td>\n",
       "      <td>...</td>\n",
       "      <td>...</td>\n",
       "    </tr>\n",
       "    <tr>\n",
       "      <td>102817</td>\n",
       "      <td>176008</td>\n",
       "      <td>SIM_14</td>\n",
       "    </tr>\n",
       "    <tr>\n",
       "      <td>102818</td>\n",
       "      <td>176009</td>\n",
       "      <td>SIM_14</td>\n",
       "    </tr>\n",
       "    <tr>\n",
       "      <td>102819</td>\n",
       "      <td>176010</td>\n",
       "      <td>SIM_14</td>\n",
       "    </tr>\n",
       "    <tr>\n",
       "      <td>102820</td>\n",
       "      <td>176011</td>\n",
       "      <td>SIM_14</td>\n",
       "    </tr>\n",
       "    <tr>\n",
       "      <td>102821</td>\n",
       "      <td>176013</td>\n",
       "      <td>SIM_14</td>\n",
       "    </tr>\n",
       "  </tbody>\n",
       "</table>\n",
       "<p>102822 rows × 2 columns</p>\n",
       "</div>"
      ],
      "text/plain": [
       "           pid     SIM\n",
       "0        63422  SIM_14\n",
       "1        63423  SIM_14\n",
       "2        63424  SIM_14\n",
       "3        63425  SIM_14\n",
       "4        63427  SIM_36\n",
       "...        ...     ...\n",
       "102817  176008  SIM_14\n",
       "102818  176009  SIM_14\n",
       "102819  176010  SIM_14\n",
       "102820  176011  SIM_14\n",
       "102821  176013  SIM_14\n",
       "\n",
       "[102822 rows x 2 columns]"
      ]
     },
     "execution_count": 15,
     "metadata": {},
     "output_type": "execute_result"
    }
   ],
   "source": [
    "sim = pd.read_csv(r\"sim.csv\")\n",
    "sim"
   ]
  },
  {
   "cell_type": "code",
   "execution_count": 16,
   "metadata": {},
   "outputs": [
    {
     "data": {
      "text/html": [
       "<div>\n",
       "<style scoped>\n",
       "    .dataframe tbody tr th:only-of-type {\n",
       "        vertical-align: middle;\n",
       "    }\n",
       "\n",
       "    .dataframe tbody tr th {\n",
       "        vertical-align: top;\n",
       "    }\n",
       "\n",
       "    .dataframe thead th {\n",
       "        text-align: right;\n",
       "    }\n",
       "</style>\n",
       "<table border=\"1\" class=\"dataframe\">\n",
       "  <thead>\n",
       "    <tr style=\"text-align: right;\">\n",
       "      <th></th>\n",
       "      <th>pid</th>\n",
       "      <th>TARIFF</th>\n",
       "    </tr>\n",
       "  </thead>\n",
       "  <tbody>\n",
       "    <tr>\n",
       "      <td>0</td>\n",
       "      <td>63422</td>\n",
       "      <td>TARIFF_OPTION_87</td>\n",
       "    </tr>\n",
       "    <tr>\n",
       "      <td>1</td>\n",
       "      <td>63423</td>\n",
       "      <td>TARIFF_OPTION_87</td>\n",
       "    </tr>\n",
       "    <tr>\n",
       "      <td>2</td>\n",
       "      <td>63424</td>\n",
       "      <td>TARIFF_OPTION_88</td>\n",
       "    </tr>\n",
       "    <tr>\n",
       "      <td>3</td>\n",
       "      <td>63425</td>\n",
       "      <td>TARIFF_OPTION_87</td>\n",
       "    </tr>\n",
       "    <tr>\n",
       "      <td>4</td>\n",
       "      <td>63426</td>\n",
       "      <td>TARIFF_OPTION_87</td>\n",
       "    </tr>\n",
       "    <tr>\n",
       "      <td>...</td>\n",
       "      <td>...</td>\n",
       "      <td>...</td>\n",
       "    </tr>\n",
       "    <tr>\n",
       "      <td>136942</td>\n",
       "      <td>176009</td>\n",
       "      <td>TARIFF_OPTION_87</td>\n",
       "    </tr>\n",
       "    <tr>\n",
       "      <td>136943</td>\n",
       "      <td>176010</td>\n",
       "      <td>TARIFF_OPTION_87</td>\n",
       "    </tr>\n",
       "    <tr>\n",
       "      <td>136944</td>\n",
       "      <td>176011</td>\n",
       "      <td>TARIFF_OPTION_87</td>\n",
       "    </tr>\n",
       "    <tr>\n",
       "      <td>136945</td>\n",
       "      <td>176012</td>\n",
       "      <td>TARIFF_OPTION_87</td>\n",
       "    </tr>\n",
       "    <tr>\n",
       "      <td>136946</td>\n",
       "      <td>176013</td>\n",
       "      <td>TARIFF_OPTION_87</td>\n",
       "    </tr>\n",
       "  </tbody>\n",
       "</table>\n",
       "<p>136947 rows × 2 columns</p>\n",
       "</div>"
      ],
      "text/plain": [
       "           pid            TARIFF\n",
       "0        63422  TARIFF_OPTION_87\n",
       "1        63423  TARIFF_OPTION_87\n",
       "2        63424  TARIFF_OPTION_88\n",
       "3        63425  TARIFF_OPTION_87\n",
       "4        63426  TARIFF_OPTION_87\n",
       "...        ...               ...\n",
       "136942  176009  TARIFF_OPTION_87\n",
       "136943  176010  TARIFF_OPTION_87\n",
       "136944  176011  TARIFF_OPTION_87\n",
       "136945  176012  TARIFF_OPTION_87\n",
       "136946  176013  TARIFF_OPTION_87\n",
       "\n",
       "[136947 rows x 2 columns]"
      ]
     },
     "execution_count": 16,
     "metadata": {},
     "output_type": "execute_result"
    }
   ],
   "source": [
    "tariffs = pd.read_csv(r\"tariffs.csv\")\n",
    "tariffs"
   ]
  },
  {
   "cell_type": "code",
   "execution_count": 17,
   "metadata": {},
   "outputs": [
    {
     "data": {
      "text/html": [
       "<div>\n",
       "<style scoped>\n",
       "    .dataframe tbody tr th:only-of-type {\n",
       "        vertical-align: middle;\n",
       "    }\n",
       "\n",
       "    .dataframe tbody tr th {\n",
       "        vertical-align: top;\n",
       "    }\n",
       "\n",
       "    .dataframe thead th {\n",
       "        text-align: right;\n",
       "    }\n",
       "</style>\n",
       "<table border=\"1\" class=\"dataframe\">\n",
       "  <thead>\n",
       "    <tr style=\"text-align: right;\">\n",
       "      <th></th>\n",
       "      <th>pid</th>\n",
       "      <th>CHANNEL</th>\n",
       "    </tr>\n",
       "  </thead>\n",
       "  <tbody>\n",
       "    <tr>\n",
       "      <td>0</td>\n",
       "      <td>61</td>\n",
       "      <td>Onlineshop</td>\n",
       "    </tr>\n",
       "    <tr>\n",
       "      <td>1</td>\n",
       "      <td>142</td>\n",
       "      <td>Onlineshop</td>\n",
       "    </tr>\n",
       "    <tr>\n",
       "      <td>2</td>\n",
       "      <td>194</td>\n",
       "      <td>Onlineshop</td>\n",
       "    </tr>\n",
       "    <tr>\n",
       "      <td>3</td>\n",
       "      <td>247</td>\n",
       "      <td>Onlineshop</td>\n",
       "    </tr>\n",
       "    <tr>\n",
       "      <td>4</td>\n",
       "      <td>250</td>\n",
       "      <td>Onlineshop</td>\n",
       "    </tr>\n",
       "    <tr>\n",
       "      <td>...</td>\n",
       "      <td>...</td>\n",
       "      <td>...</td>\n",
       "    </tr>\n",
       "    <tr>\n",
       "      <td>221897</td>\n",
       "      <td>241084</td>\n",
       "      <td>Telesales</td>\n",
       "    </tr>\n",
       "    <tr>\n",
       "      <td>221898</td>\n",
       "      <td>242220</td>\n",
       "      <td>Onlineshop</td>\n",
       "    </tr>\n",
       "    <tr>\n",
       "      <td>221899</td>\n",
       "      <td>248306</td>\n",
       "      <td>Onlineshop</td>\n",
       "    </tr>\n",
       "    <tr>\n",
       "      <td>221900</td>\n",
       "      <td>251575</td>\n",
       "      <td>Telesales</td>\n",
       "    </tr>\n",
       "    <tr>\n",
       "      <td>221901</td>\n",
       "      <td>254937</td>\n",
       "      <td>Onlineshop</td>\n",
       "    </tr>\n",
       "  </tbody>\n",
       "</table>\n",
       "<p>221902 rows × 2 columns</p>\n",
       "</div>"
      ],
      "text/plain": [
       "           pid     CHANNEL\n",
       "0           61  Onlineshop\n",
       "1          142  Onlineshop\n",
       "2          194  Onlineshop\n",
       "3          247  Onlineshop\n",
       "4          250  Onlineshop\n",
       "...        ...         ...\n",
       "221897  241084   Telesales\n",
       "221898  242220  Onlineshop\n",
       "221899  248306  Onlineshop\n",
       "221900  251575   Telesales\n",
       "221901  254937  Onlineshop\n",
       "\n",
       "[221902 rows x 2 columns]"
      ]
     },
     "execution_count": 17,
     "metadata": {},
     "output_type": "execute_result"
    }
   ],
   "source": [
    "channels = pd.read_csv(r\"channels.csv\")\n",
    "channels"
   ]
  },
  {
   "cell_type": "code",
   "execution_count": 18,
   "metadata": {
    "scrolled": false
   },
   "outputs": [
    {
     "data": {
      "text/html": [
       "<div>\n",
       "<style scoped>\n",
       "    .dataframe tbody tr th:only-of-type {\n",
       "        vertical-align: middle;\n",
       "    }\n",
       "\n",
       "    .dataframe tbody tr th {\n",
       "        vertical-align: top;\n",
       "    }\n",
       "\n",
       "    .dataframe thead th {\n",
       "        text-align: right;\n",
       "    }\n",
       "</style>\n",
       "<table border=\"1\" class=\"dataframe\">\n",
       "  <thead>\n",
       "    <tr style=\"text-align: right;\">\n",
       "      <th></th>\n",
       "      <th>case</th>\n",
       "      <th>event</th>\n",
       "      <th>ts</th>\n",
       "    </tr>\n",
       "  </thead>\n",
       "  <tbody>\n",
       "    <tr>\n",
       "      <td>0</td>\n",
       "      <td>2</td>\n",
       "      <td>Order imported</td>\n",
       "      <td>2018-09-02 00:02:33</td>\n",
       "    </tr>\n",
       "    <tr>\n",
       "      <td>1</td>\n",
       "      <td>2</td>\n",
       "      <td>Suspicious (Fraud)</td>\n",
       "      <td>2018-09-02 00:02:46</td>\n",
       "    </tr>\n",
       "    <tr>\n",
       "      <td>2</td>\n",
       "      <td>2</td>\n",
       "      <td>Order checked</td>\n",
       "      <td>2018-09-03 14:26:03</td>\n",
       "    </tr>\n",
       "    <tr>\n",
       "      <td>3</td>\n",
       "      <td>2</td>\n",
       "      <td>Device hand-out</td>\n",
       "      <td>2018-09-03 14:27:56</td>\n",
       "    </tr>\n",
       "    <tr>\n",
       "      <td>4</td>\n",
       "      <td>2</td>\n",
       "      <td>Ready for payment processing</td>\n",
       "      <td>2018-09-03 14:27:56</td>\n",
       "    </tr>\n",
       "    <tr>\n",
       "      <td>...</td>\n",
       "      <td>...</td>\n",
       "      <td>...</td>\n",
       "      <td>...</td>\n",
       "    </tr>\n",
       "    <tr>\n",
       "      <td>226394</td>\n",
       "      <td>263244</td>\n",
       "      <td>Documents complete (ERP)</td>\n",
       "      <td>2018-12-03 11:26:21</td>\n",
       "    </tr>\n",
       "    <tr>\n",
       "      <td>226395</td>\n",
       "      <td>263244</td>\n",
       "      <td>Goods in arrears</td>\n",
       "      <td>2018-12-03 11:28:59</td>\n",
       "    </tr>\n",
       "    <tr>\n",
       "      <td>226396</td>\n",
       "      <td>263244</td>\n",
       "      <td>Ready to deliver</td>\n",
       "      <td>2018-12-05 15:23:11</td>\n",
       "    </tr>\n",
       "    <tr>\n",
       "      <td>226397</td>\n",
       "      <td>263244</td>\n",
       "      <td>Delivered</td>\n",
       "      <td>2018-12-05 19:06:27</td>\n",
       "    </tr>\n",
       "    <tr>\n",
       "      <td>226398</td>\n",
       "      <td>263244</td>\n",
       "      <td>IMEI correction</td>\n",
       "      <td>2018-12-05 19:19:30</td>\n",
       "    </tr>\n",
       "  </tbody>\n",
       "</table>\n",
       "<p>226399 rows × 3 columns</p>\n",
       "</div>"
      ],
      "text/plain": [
       "          case                         event                   ts\n",
       "0            2                Order imported  2018-09-02 00:02:33\n",
       "1            2            Suspicious (Fraud)  2018-09-02 00:02:46\n",
       "2            2                 Order checked  2018-09-03 14:26:03\n",
       "3            2               Device hand-out  2018-09-03 14:27:56\n",
       "4            2  Ready for payment processing  2018-09-03 14:27:56\n",
       "...        ...                           ...                  ...\n",
       "226394  263244      Documents complete (ERP)  2018-12-03 11:26:21\n",
       "226395  263244              Goods in arrears  2018-12-03 11:28:59\n",
       "226396  263244              Ready to deliver  2018-12-05 15:23:11\n",
       "226397  263244                     Delivered  2018-12-05 19:06:27\n",
       "226398  263244               IMEI correction  2018-12-05 19:19:30\n",
       "\n",
       "[226399 rows x 3 columns]"
      ]
     },
     "execution_count": 18,
     "metadata": {},
     "output_type": "execute_result"
    }
   ],
   "source": [
    "d0 = pd.read_csv(r\"hda_dataset_uniform_random_0.csv\")\n",
    "d0"
   ]
  },
  {
   "cell_type": "code",
   "execution_count": 19,
   "metadata": {},
   "outputs": [
    {
     "data": {
      "text/html": [
       "<div>\n",
       "<style scoped>\n",
       "    .dataframe tbody tr th:only-of-type {\n",
       "        vertical-align: middle;\n",
       "    }\n",
       "\n",
       "    .dataframe tbody tr th {\n",
       "        vertical-align: top;\n",
       "    }\n",
       "\n",
       "    .dataframe thead th {\n",
       "        text-align: right;\n",
       "    }\n",
       "</style>\n",
       "<table border=\"1\" class=\"dataframe\">\n",
       "  <thead>\n",
       "    <tr style=\"text-align: right;\">\n",
       "      <th></th>\n",
       "      <th>case</th>\n",
       "      <th>event</th>\n",
       "      <th>ts</th>\n",
       "    </tr>\n",
       "  </thead>\n",
       "  <tbody>\n",
       "    <tr>\n",
       "      <td>0</td>\n",
       "      <td>17</td>\n",
       "      <td>Export from online shop</td>\n",
       "      <td>2018-09-02 00:11:55</td>\n",
       "    </tr>\n",
       "    <tr>\n",
       "      <td>1</td>\n",
       "      <td>17</td>\n",
       "      <td>Order imported</td>\n",
       "      <td>2018-09-02 00:27:29</td>\n",
       "    </tr>\n",
       "    <tr>\n",
       "      <td>2</td>\n",
       "      <td>17</td>\n",
       "      <td>Order checked</td>\n",
       "      <td>2018-09-02 00:27:41</td>\n",
       "    </tr>\n",
       "    <tr>\n",
       "      <td>3</td>\n",
       "      <td>17</td>\n",
       "      <td>Device hand-out</td>\n",
       "      <td>2018-09-02 00:34:56</td>\n",
       "    </tr>\n",
       "    <tr>\n",
       "      <td>4</td>\n",
       "      <td>17</td>\n",
       "      <td>Delivery approved</td>\n",
       "      <td>2018-09-02 00:34:56</td>\n",
       "    </tr>\n",
       "    <tr>\n",
       "      <td>...</td>\n",
       "      <td>...</td>\n",
       "      <td>...</td>\n",
       "      <td>...</td>\n",
       "    </tr>\n",
       "    <tr>\n",
       "      <td>227465</td>\n",
       "      <td>263227</td>\n",
       "      <td>Documents complete (ERP)</td>\n",
       "      <td>2018-12-04 20:59:25</td>\n",
       "    </tr>\n",
       "    <tr>\n",
       "      <td>227466</td>\n",
       "      <td>263227</td>\n",
       "      <td>Goods in arrears</td>\n",
       "      <td>2018-12-04 21:48:09</td>\n",
       "    </tr>\n",
       "    <tr>\n",
       "      <td>227467</td>\n",
       "      <td>263227</td>\n",
       "      <td>Ready to deliver</td>\n",
       "      <td>2018-12-05 16:06:53</td>\n",
       "    </tr>\n",
       "    <tr>\n",
       "      <td>227468</td>\n",
       "      <td>263227</td>\n",
       "      <td>Delivered</td>\n",
       "      <td>2018-12-06 13:11:46</td>\n",
       "    </tr>\n",
       "    <tr>\n",
       "      <td>227469</td>\n",
       "      <td>263227</td>\n",
       "      <td>IMEI correction</td>\n",
       "      <td>2018-12-06 13:13:49</td>\n",
       "    </tr>\n",
       "  </tbody>\n",
       "</table>\n",
       "<p>227470 rows × 3 columns</p>\n",
       "</div>"
      ],
      "text/plain": [
       "          case                     event                   ts\n",
       "0           17   Export from online shop  2018-09-02 00:11:55\n",
       "1           17            Order imported  2018-09-02 00:27:29\n",
       "2           17             Order checked  2018-09-02 00:27:41\n",
       "3           17           Device hand-out  2018-09-02 00:34:56\n",
       "4           17         Delivery approved  2018-09-02 00:34:56\n",
       "...        ...                       ...                  ...\n",
       "227465  263227  Documents complete (ERP)  2018-12-04 20:59:25\n",
       "227466  263227          Goods in arrears  2018-12-04 21:48:09\n",
       "227467  263227          Ready to deliver  2018-12-05 16:06:53\n",
       "227468  263227                 Delivered  2018-12-06 13:11:46\n",
       "227469  263227           IMEI correction  2018-12-06 13:13:49\n",
       "\n",
       "[227470 rows x 3 columns]"
      ]
     },
     "execution_count": 19,
     "metadata": {},
     "output_type": "execute_result"
    }
   ],
   "source": [
    "d1 = pd.read_csv(r\"hda_dataset_uniform_random_1.csv\")\n",
    "d1"
   ]
  },
  {
   "cell_type": "code",
   "execution_count": 20,
   "metadata": {},
   "outputs": [
    {
     "data": {
      "text/html": [
       "<div>\n",
       "<style scoped>\n",
       "    .dataframe tbody tr th:only-of-type {\n",
       "        vertical-align: middle;\n",
       "    }\n",
       "\n",
       "    .dataframe tbody tr th {\n",
       "        vertical-align: top;\n",
       "    }\n",
       "\n",
       "    .dataframe thead th {\n",
       "        text-align: right;\n",
       "    }\n",
       "</style>\n",
       "<table border=\"1\" class=\"dataframe\">\n",
       "  <thead>\n",
       "    <tr style=\"text-align: right;\">\n",
       "      <th></th>\n",
       "      <th>case</th>\n",
       "      <th>event</th>\n",
       "      <th>ts</th>\n",
       "    </tr>\n",
       "  </thead>\n",
       "  <tbody>\n",
       "    <tr>\n",
       "      <td>0</td>\n",
       "      <td>40</td>\n",
       "      <td>Export from online shop</td>\n",
       "      <td>2018-09-02 01:25:44</td>\n",
       "    </tr>\n",
       "    <tr>\n",
       "      <td>1</td>\n",
       "      <td>40</td>\n",
       "      <td>Order imported</td>\n",
       "      <td>2018-09-02 05:03:19</td>\n",
       "    </tr>\n",
       "    <tr>\n",
       "      <td>2</td>\n",
       "      <td>40</td>\n",
       "      <td>Order checked</td>\n",
       "      <td>2018-09-02 05:04:34</td>\n",
       "    </tr>\n",
       "    <tr>\n",
       "      <td>3</td>\n",
       "      <td>40</td>\n",
       "      <td>Device hand-out</td>\n",
       "      <td>2018-09-02 05:09:40</td>\n",
       "    </tr>\n",
       "    <tr>\n",
       "      <td>4</td>\n",
       "      <td>40</td>\n",
       "      <td>Delivery approved</td>\n",
       "      <td>2018-09-02 05:09:40</td>\n",
       "    </tr>\n",
       "    <tr>\n",
       "      <td>...</td>\n",
       "      <td>...</td>\n",
       "      <td>...</td>\n",
       "      <td>...</td>\n",
       "    </tr>\n",
       "    <tr>\n",
       "      <td>227743</td>\n",
       "      <td>263247</td>\n",
       "      <td>Delivered</td>\n",
       "      <td>2018-12-04 09:27:41</td>\n",
       "    </tr>\n",
       "    <tr>\n",
       "      <td>227744</td>\n",
       "      <td>263247</td>\n",
       "      <td>Activated</td>\n",
       "      <td>2018-12-04 09:51:03</td>\n",
       "    </tr>\n",
       "    <tr>\n",
       "      <td>227745</td>\n",
       "      <td>263247</td>\n",
       "      <td>Printed (ERP)</td>\n",
       "      <td>2018-12-04 09:51:21</td>\n",
       "    </tr>\n",
       "    <tr>\n",
       "      <td>227746</td>\n",
       "      <td>263247</td>\n",
       "      <td>Customer ID transmitted</td>\n",
       "      <td>2018-12-05 09:52:10</td>\n",
       "    </tr>\n",
       "    <tr>\n",
       "      <td>227747</td>\n",
       "      <td>263247</td>\n",
       "      <td>Invoiced</td>\n",
       "      <td>2018-12-05 23:31:18</td>\n",
       "    </tr>\n",
       "  </tbody>\n",
       "</table>\n",
       "<p>227748 rows × 3 columns</p>\n",
       "</div>"
      ],
      "text/plain": [
       "          case                    event                   ts\n",
       "0           40  Export from online shop  2018-09-02 01:25:44\n",
       "1           40           Order imported  2018-09-02 05:03:19\n",
       "2           40            Order checked  2018-09-02 05:04:34\n",
       "3           40          Device hand-out  2018-09-02 05:09:40\n",
       "4           40        Delivery approved  2018-09-02 05:09:40\n",
       "...        ...                      ...                  ...\n",
       "227743  263247                Delivered  2018-12-04 09:27:41\n",
       "227744  263247                Activated  2018-12-04 09:51:03\n",
       "227745  263247            Printed (ERP)  2018-12-04 09:51:21\n",
       "227746  263247  Customer ID transmitted  2018-12-05 09:52:10\n",
       "227747  263247                 Invoiced  2018-12-05 23:31:18\n",
       "\n",
       "[227748 rows x 3 columns]"
      ]
     },
     "execution_count": 20,
     "metadata": {},
     "output_type": "execute_result"
    }
   ],
   "source": [
    "d2 = pd.read_csv(r\"hda_dataset_uniform_random_2.csv\")\n",
    "d2"
   ]
  },
  {
   "cell_type": "code",
   "execution_count": 21,
   "metadata": {},
   "outputs": [
    {
     "data": {
      "text/html": [
       "<div>\n",
       "<style scoped>\n",
       "    .dataframe tbody tr th:only-of-type {\n",
       "        vertical-align: middle;\n",
       "    }\n",
       "\n",
       "    .dataframe tbody tr th {\n",
       "        vertical-align: top;\n",
       "    }\n",
       "\n",
       "    .dataframe thead th {\n",
       "        text-align: right;\n",
       "    }\n",
       "</style>\n",
       "<table border=\"1\" class=\"dataframe\">\n",
       "  <thead>\n",
       "    <tr style=\"text-align: right;\">\n",
       "      <th></th>\n",
       "      <th>case</th>\n",
       "      <th>event</th>\n",
       "      <th>ts</th>\n",
       "    </tr>\n",
       "  </thead>\n",
       "  <tbody>\n",
       "    <tr>\n",
       "      <td>0</td>\n",
       "      <td>10</td>\n",
       "      <td>Order imported</td>\n",
       "      <td>2018-09-02 00:12:28</td>\n",
       "    </tr>\n",
       "    <tr>\n",
       "      <td>1</td>\n",
       "      <td>10</td>\n",
       "      <td>Order checked</td>\n",
       "      <td>2018-09-02 00:12:55</td>\n",
       "    </tr>\n",
       "    <tr>\n",
       "      <td>2</td>\n",
       "      <td>10</td>\n",
       "      <td>Device hand-out</td>\n",
       "      <td>2018-09-02 00:22:04</td>\n",
       "    </tr>\n",
       "    <tr>\n",
       "      <td>3</td>\n",
       "      <td>10</td>\n",
       "      <td>Delivery approved</td>\n",
       "      <td>2018-09-02 00:22:04</td>\n",
       "    </tr>\n",
       "    <tr>\n",
       "      <td>4</td>\n",
       "      <td>10</td>\n",
       "      <td>In delivery</td>\n",
       "      <td>2018-09-02 00:22:04</td>\n",
       "    </tr>\n",
       "    <tr>\n",
       "      <td>...</td>\n",
       "      <td>...</td>\n",
       "      <td>...</td>\n",
       "      <td>...</td>\n",
       "    </tr>\n",
       "    <tr>\n",
       "      <td>227364</td>\n",
       "      <td>263243</td>\n",
       "      <td>Delivered</td>\n",
       "      <td>2018-12-04 18:59:06</td>\n",
       "    </tr>\n",
       "    <tr>\n",
       "      <td>227365</td>\n",
       "      <td>263243</td>\n",
       "      <td>Activated</td>\n",
       "      <td>2018-12-04 19:30:40</td>\n",
       "    </tr>\n",
       "    <tr>\n",
       "      <td>227366</td>\n",
       "      <td>263243</td>\n",
       "      <td>Printed (ERP)</td>\n",
       "      <td>2018-12-04 19:32:27</td>\n",
       "    </tr>\n",
       "    <tr>\n",
       "      <td>227367</td>\n",
       "      <td>263243</td>\n",
       "      <td>Customer ID transmitted</td>\n",
       "      <td>2018-12-05 19:36:55</td>\n",
       "    </tr>\n",
       "    <tr>\n",
       "      <td>227368</td>\n",
       "      <td>263243</td>\n",
       "      <td>Invoiced</td>\n",
       "      <td>2018-12-05 23:31:18</td>\n",
       "    </tr>\n",
       "  </tbody>\n",
       "</table>\n",
       "<p>227369 rows × 3 columns</p>\n",
       "</div>"
      ],
      "text/plain": [
       "          case                    event                   ts\n",
       "0           10           Order imported  2018-09-02 00:12:28\n",
       "1           10            Order checked  2018-09-02 00:12:55\n",
       "2           10          Device hand-out  2018-09-02 00:22:04\n",
       "3           10        Delivery approved  2018-09-02 00:22:04\n",
       "4           10              In delivery  2018-09-02 00:22:04\n",
       "...        ...                      ...                  ...\n",
       "227364  263243                Delivered  2018-12-04 18:59:06\n",
       "227365  263243                Activated  2018-12-04 19:30:40\n",
       "227366  263243            Printed (ERP)  2018-12-04 19:32:27\n",
       "227367  263243  Customer ID transmitted  2018-12-05 19:36:55\n",
       "227368  263243                 Invoiced  2018-12-05 23:31:18\n",
       "\n",
       "[227369 rows x 3 columns]"
      ]
     },
     "execution_count": 21,
     "metadata": {},
     "output_type": "execute_result"
    }
   ],
   "source": [
    "d3 = pd.read_csv(r\"hda_dataset_uniform_random_3.csv\")\n",
    "d3"
   ]
  },
  {
   "cell_type": "code",
   "execution_count": 22,
   "metadata": {},
   "outputs": [
    {
     "data": {
      "text/html": [
       "<div>\n",
       "<style scoped>\n",
       "    .dataframe tbody tr th:only-of-type {\n",
       "        vertical-align: middle;\n",
       "    }\n",
       "\n",
       "    .dataframe tbody tr th {\n",
       "        vertical-align: top;\n",
       "    }\n",
       "\n",
       "    .dataframe thead th {\n",
       "        text-align: right;\n",
       "    }\n",
       "</style>\n",
       "<table border=\"1\" class=\"dataframe\">\n",
       "  <thead>\n",
       "    <tr style=\"text-align: right;\">\n",
       "      <th></th>\n",
       "      <th>case</th>\n",
       "      <th>event</th>\n",
       "      <th>ts</th>\n",
       "    </tr>\n",
       "  </thead>\n",
       "  <tbody>\n",
       "    <tr>\n",
       "      <td>0</td>\n",
       "      <td>1</td>\n",
       "      <td>Order imported</td>\n",
       "      <td>2018-09-02 00:02:30</td>\n",
       "    </tr>\n",
       "    <tr>\n",
       "      <td>1</td>\n",
       "      <td>1</td>\n",
       "      <td>Order checked</td>\n",
       "      <td>2018-09-02 00:02:41</td>\n",
       "    </tr>\n",
       "    <tr>\n",
       "      <td>2</td>\n",
       "      <td>1</td>\n",
       "      <td>Address correction</td>\n",
       "      <td>2018-09-02 00:06:21</td>\n",
       "    </tr>\n",
       "    <tr>\n",
       "      <td>3</td>\n",
       "      <td>1</td>\n",
       "      <td>Order creation failed (SYS-2)</td>\n",
       "      <td>2018-09-02 00:07:00</td>\n",
       "    </tr>\n",
       "    <tr>\n",
       "      <td>4</td>\n",
       "      <td>1</td>\n",
       "      <td>Device hand-out</td>\n",
       "      <td>2018-09-03 16:36:00</td>\n",
       "    </tr>\n",
       "    <tr>\n",
       "      <td>...</td>\n",
       "      <td>...</td>\n",
       "      <td>...</td>\n",
       "      <td>...</td>\n",
       "    </tr>\n",
       "    <tr>\n",
       "      <td>227148</td>\n",
       "      <td>263244</td>\n",
       "      <td>Documents complete (ERP)</td>\n",
       "      <td>2018-12-03 11:26:21</td>\n",
       "    </tr>\n",
       "    <tr>\n",
       "      <td>227149</td>\n",
       "      <td>263244</td>\n",
       "      <td>Goods in arrears</td>\n",
       "      <td>2018-12-03 11:28:59</td>\n",
       "    </tr>\n",
       "    <tr>\n",
       "      <td>227150</td>\n",
       "      <td>263244</td>\n",
       "      <td>Ready to deliver</td>\n",
       "      <td>2018-12-05 15:23:11</td>\n",
       "    </tr>\n",
       "    <tr>\n",
       "      <td>227151</td>\n",
       "      <td>263244</td>\n",
       "      <td>Delivered</td>\n",
       "      <td>2018-12-05 19:06:27</td>\n",
       "    </tr>\n",
       "    <tr>\n",
       "      <td>227152</td>\n",
       "      <td>263244</td>\n",
       "      <td>IMEI correction</td>\n",
       "      <td>2018-12-05 19:19:30</td>\n",
       "    </tr>\n",
       "  </tbody>\n",
       "</table>\n",
       "<p>227153 rows × 3 columns</p>\n",
       "</div>"
      ],
      "text/plain": [
       "          case                          event                   ts\n",
       "0            1                 Order imported  2018-09-02 00:02:30\n",
       "1            1                  Order checked  2018-09-02 00:02:41\n",
       "2            1             Address correction  2018-09-02 00:06:21\n",
       "3            1  Order creation failed (SYS-2)  2018-09-02 00:07:00\n",
       "4            1                Device hand-out  2018-09-03 16:36:00\n",
       "...        ...                            ...                  ...\n",
       "227148  263244       Documents complete (ERP)  2018-12-03 11:26:21\n",
       "227149  263244               Goods in arrears  2018-12-03 11:28:59\n",
       "227150  263244               Ready to deliver  2018-12-05 15:23:11\n",
       "227151  263244                      Delivered  2018-12-05 19:06:27\n",
       "227152  263244                IMEI correction  2018-12-05 19:19:30\n",
       "\n",
       "[227153 rows x 3 columns]"
      ]
     },
     "execution_count": 22,
     "metadata": {},
     "output_type": "execute_result"
    }
   ],
   "source": [
    "d4 = pd.read_csv(r\"hda_dataset_uniform_random_4.csv\")\n",
    "d4"
   ]
  },
  {
   "cell_type": "code",
   "execution_count": 23,
   "metadata": {},
   "outputs": [
    {
     "data": {
      "text/html": [
       "<div>\n",
       "<style scoped>\n",
       "    .dataframe tbody tr th:only-of-type {\n",
       "        vertical-align: middle;\n",
       "    }\n",
       "\n",
       "    .dataframe tbody tr th {\n",
       "        vertical-align: top;\n",
       "    }\n",
       "\n",
       "    .dataframe thead th {\n",
       "        text-align: right;\n",
       "    }\n",
       "</style>\n",
       "<table border=\"1\" class=\"dataframe\">\n",
       "  <thead>\n",
       "    <tr style=\"text-align: right;\">\n",
       "      <th></th>\n",
       "      <th>case</th>\n",
       "      <th>event</th>\n",
       "      <th>ts</th>\n",
       "    </tr>\n",
       "  </thead>\n",
       "  <tbody>\n",
       "    <tr>\n",
       "      <td>0</td>\n",
       "      <td>1</td>\n",
       "      <td>Order imported</td>\n",
       "      <td>2018-09-02 00:02:30</td>\n",
       "    </tr>\n",
       "    <tr>\n",
       "      <td>1</td>\n",
       "      <td>1</td>\n",
       "      <td>Order checked</td>\n",
       "      <td>2018-09-02 00:02:41</td>\n",
       "    </tr>\n",
       "    <tr>\n",
       "      <td>2</td>\n",
       "      <td>1</td>\n",
       "      <td>Address correction</td>\n",
       "      <td>2018-09-02 00:06:21</td>\n",
       "    </tr>\n",
       "    <tr>\n",
       "      <td>3</td>\n",
       "      <td>1</td>\n",
       "      <td>Order creation failed (SYS-2)</td>\n",
       "      <td>2018-09-02 00:07:00</td>\n",
       "    </tr>\n",
       "    <tr>\n",
       "      <td>4</td>\n",
       "      <td>1</td>\n",
       "      <td>Device hand-out</td>\n",
       "      <td>2018-09-03 16:36:00</td>\n",
       "    </tr>\n",
       "    <tr>\n",
       "      <td>...</td>\n",
       "      <td>...</td>\n",
       "      <td>...</td>\n",
       "      <td>...</td>\n",
       "    </tr>\n",
       "    <tr>\n",
       "      <td>227282</td>\n",
       "      <td>263235</td>\n",
       "      <td>In delivery</td>\n",
       "      <td>2018-12-01 23:45:16</td>\n",
       "    </tr>\n",
       "    <tr>\n",
       "      <td>227283</td>\n",
       "      <td>263235</td>\n",
       "      <td>Goods in arrears</td>\n",
       "      <td>2018-12-01 23:45:44</td>\n",
       "    </tr>\n",
       "    <tr>\n",
       "      <td>227284</td>\n",
       "      <td>263235</td>\n",
       "      <td>Ready to deliver</td>\n",
       "      <td>2018-12-05 09:48:42</td>\n",
       "    </tr>\n",
       "    <tr>\n",
       "      <td>227285</td>\n",
       "      <td>263235</td>\n",
       "      <td>Delivered</td>\n",
       "      <td>2018-12-06 16:07:51</td>\n",
       "    </tr>\n",
       "    <tr>\n",
       "      <td>227286</td>\n",
       "      <td>263235</td>\n",
       "      <td>Invoiced</td>\n",
       "      <td>2018-12-06 22:46:48</td>\n",
       "    </tr>\n",
       "  </tbody>\n",
       "</table>\n",
       "<p>227287 rows × 3 columns</p>\n",
       "</div>"
      ],
      "text/plain": [
       "          case                          event                   ts\n",
       "0            1                 Order imported  2018-09-02 00:02:30\n",
       "1            1                  Order checked  2018-09-02 00:02:41\n",
       "2            1             Address correction  2018-09-02 00:06:21\n",
       "3            1  Order creation failed (SYS-2)  2018-09-02 00:07:00\n",
       "4            1                Device hand-out  2018-09-03 16:36:00\n",
       "...        ...                            ...                  ...\n",
       "227282  263235                    In delivery  2018-12-01 23:45:16\n",
       "227283  263235               Goods in arrears  2018-12-01 23:45:44\n",
       "227284  263235               Ready to deliver  2018-12-05 09:48:42\n",
       "227285  263235                      Delivered  2018-12-06 16:07:51\n",
       "227286  263235                       Invoiced  2018-12-06 22:46:48\n",
       "\n",
       "[227287 rows x 3 columns]"
      ]
     },
     "execution_count": 23,
     "metadata": {},
     "output_type": "execute_result"
    }
   ],
   "source": [
    "d5 = pd.read_csv(r\"hda_dataset_uniform_random_5.csv\")\n",
    "d5"
   ]
  },
  {
   "cell_type": "code",
   "execution_count": 24,
   "metadata": {},
   "outputs": [
    {
     "data": {
      "text/html": [
       "<div>\n",
       "<style scoped>\n",
       "    .dataframe tbody tr th:only-of-type {\n",
       "        vertical-align: middle;\n",
       "    }\n",
       "\n",
       "    .dataframe tbody tr th {\n",
       "        vertical-align: top;\n",
       "    }\n",
       "\n",
       "    .dataframe thead th {\n",
       "        text-align: right;\n",
       "    }\n",
       "</style>\n",
       "<table border=\"1\" class=\"dataframe\">\n",
       "  <thead>\n",
       "    <tr style=\"text-align: right;\">\n",
       "      <th></th>\n",
       "      <th>case</th>\n",
       "      <th>event</th>\n",
       "      <th>ts</th>\n",
       "    </tr>\n",
       "  </thead>\n",
       "  <tbody>\n",
       "    <tr>\n",
       "      <td>0</td>\n",
       "      <td>15</td>\n",
       "      <td>Export from online shop</td>\n",
       "      <td>2018-09-02 00:09:03</td>\n",
       "    </tr>\n",
       "    <tr>\n",
       "      <td>1</td>\n",
       "      <td>15</td>\n",
       "      <td>Order imported</td>\n",
       "      <td>2018-09-02 00:22:32</td>\n",
       "    </tr>\n",
       "    <tr>\n",
       "      <td>2</td>\n",
       "      <td>15</td>\n",
       "      <td>Order checked</td>\n",
       "      <td>2018-09-02 00:23:04</td>\n",
       "    </tr>\n",
       "    <tr>\n",
       "      <td>3</td>\n",
       "      <td>15</td>\n",
       "      <td>Device hand-out</td>\n",
       "      <td>2018-09-02 00:25:50</td>\n",
       "    </tr>\n",
       "    <tr>\n",
       "      <td>4</td>\n",
       "      <td>15</td>\n",
       "      <td>Delivery approved</td>\n",
       "      <td>2018-09-02 00:25:50</td>\n",
       "    </tr>\n",
       "    <tr>\n",
       "      <td>...</td>\n",
       "      <td>...</td>\n",
       "      <td>...</td>\n",
       "      <td>...</td>\n",
       "    </tr>\n",
       "    <tr>\n",
       "      <td>226806</td>\n",
       "      <td>263218</td>\n",
       "      <td>Documents complete (ERP)</td>\n",
       "      <td>2018-12-03 11:25:01</td>\n",
       "    </tr>\n",
       "    <tr>\n",
       "      <td>226807</td>\n",
       "      <td>263218</td>\n",
       "      <td>Goods in arrears</td>\n",
       "      <td>2018-12-03 11:27:18</td>\n",
       "    </tr>\n",
       "    <tr>\n",
       "      <td>226808</td>\n",
       "      <td>263218</td>\n",
       "      <td>Ready to deliver</td>\n",
       "      <td>2018-12-05 15:56:22</td>\n",
       "    </tr>\n",
       "    <tr>\n",
       "      <td>226809</td>\n",
       "      <td>263218</td>\n",
       "      <td>Delivered</td>\n",
       "      <td>2018-12-06 09:49:28</td>\n",
       "    </tr>\n",
       "    <tr>\n",
       "      <td>226810</td>\n",
       "      <td>263218</td>\n",
       "      <td>IMEI correction</td>\n",
       "      <td>2018-12-06 09:51:55</td>\n",
       "    </tr>\n",
       "  </tbody>\n",
       "</table>\n",
       "<p>226811 rows × 3 columns</p>\n",
       "</div>"
      ],
      "text/plain": [
       "          case                     event                   ts\n",
       "0           15   Export from online shop  2018-09-02 00:09:03\n",
       "1           15            Order imported  2018-09-02 00:22:32\n",
       "2           15             Order checked  2018-09-02 00:23:04\n",
       "3           15           Device hand-out  2018-09-02 00:25:50\n",
       "4           15         Delivery approved  2018-09-02 00:25:50\n",
       "...        ...                       ...                  ...\n",
       "226806  263218  Documents complete (ERP)  2018-12-03 11:25:01\n",
       "226807  263218          Goods in arrears  2018-12-03 11:27:18\n",
       "226808  263218          Ready to deliver  2018-12-05 15:56:22\n",
       "226809  263218                 Delivered  2018-12-06 09:49:28\n",
       "226810  263218           IMEI correction  2018-12-06 09:51:55\n",
       "\n",
       "[226811 rows x 3 columns]"
      ]
     },
     "execution_count": 24,
     "metadata": {},
     "output_type": "execute_result"
    }
   ],
   "source": [
    "d6 = pd.read_csv(r\"hda_dataset_uniform_random_6.csv\")\n",
    "d6"
   ]
  },
  {
   "cell_type": "code",
   "execution_count": 25,
   "metadata": {},
   "outputs": [
    {
     "data": {
      "text/html": [
       "<div>\n",
       "<style scoped>\n",
       "    .dataframe tbody tr th:only-of-type {\n",
       "        vertical-align: middle;\n",
       "    }\n",
       "\n",
       "    .dataframe tbody tr th {\n",
       "        vertical-align: top;\n",
       "    }\n",
       "\n",
       "    .dataframe thead th {\n",
       "        text-align: right;\n",
       "    }\n",
       "</style>\n",
       "<table border=\"1\" class=\"dataframe\">\n",
       "  <thead>\n",
       "    <tr style=\"text-align: right;\">\n",
       "      <th></th>\n",
       "      <th>case</th>\n",
       "      <th>event</th>\n",
       "      <th>ts</th>\n",
       "    </tr>\n",
       "  </thead>\n",
       "  <tbody>\n",
       "    <tr>\n",
       "      <td>0</td>\n",
       "      <td>10</td>\n",
       "      <td>Order imported</td>\n",
       "      <td>2018-09-02 00:12:28</td>\n",
       "    </tr>\n",
       "    <tr>\n",
       "      <td>1</td>\n",
       "      <td>10</td>\n",
       "      <td>Order checked</td>\n",
       "      <td>2018-09-02 00:12:55</td>\n",
       "    </tr>\n",
       "    <tr>\n",
       "      <td>2</td>\n",
       "      <td>10</td>\n",
       "      <td>Device hand-out</td>\n",
       "      <td>2018-09-02 00:22:04</td>\n",
       "    </tr>\n",
       "    <tr>\n",
       "      <td>3</td>\n",
       "      <td>10</td>\n",
       "      <td>Delivery approved</td>\n",
       "      <td>2018-09-02 00:22:04</td>\n",
       "    </tr>\n",
       "    <tr>\n",
       "      <td>4</td>\n",
       "      <td>10</td>\n",
       "      <td>In delivery</td>\n",
       "      <td>2018-09-02 00:22:04</td>\n",
       "    </tr>\n",
       "    <tr>\n",
       "      <td>...</td>\n",
       "      <td>...</td>\n",
       "      <td>...</td>\n",
       "      <td>...</td>\n",
       "    </tr>\n",
       "    <tr>\n",
       "      <td>228285</td>\n",
       "      <td>263240</td>\n",
       "      <td>Documents complete (ERP)</td>\n",
       "      <td>2018-12-03 11:25:44</td>\n",
       "    </tr>\n",
       "    <tr>\n",
       "      <td>228286</td>\n",
       "      <td>263240</td>\n",
       "      <td>Goods in arrears</td>\n",
       "      <td>2018-12-03 11:28:33</td>\n",
       "    </tr>\n",
       "    <tr>\n",
       "      <td>228287</td>\n",
       "      <td>263240</td>\n",
       "      <td>Ready to deliver</td>\n",
       "      <td>2018-12-05 15:56:22</td>\n",
       "    </tr>\n",
       "    <tr>\n",
       "      <td>228288</td>\n",
       "      <td>263240</td>\n",
       "      <td>Delivered</td>\n",
       "      <td>2018-12-06 09:34:21</td>\n",
       "    </tr>\n",
       "    <tr>\n",
       "      <td>228289</td>\n",
       "      <td>263240</td>\n",
       "      <td>IMEI correction</td>\n",
       "      <td>2018-12-06 09:42:56</td>\n",
       "    </tr>\n",
       "  </tbody>\n",
       "</table>\n",
       "<p>228290 rows × 3 columns</p>\n",
       "</div>"
      ],
      "text/plain": [
       "          case                     event                   ts\n",
       "0           10            Order imported  2018-09-02 00:12:28\n",
       "1           10             Order checked  2018-09-02 00:12:55\n",
       "2           10           Device hand-out  2018-09-02 00:22:04\n",
       "3           10         Delivery approved  2018-09-02 00:22:04\n",
       "4           10               In delivery  2018-09-02 00:22:04\n",
       "...        ...                       ...                  ...\n",
       "228285  263240  Documents complete (ERP)  2018-12-03 11:25:44\n",
       "228286  263240          Goods in arrears  2018-12-03 11:28:33\n",
       "228287  263240          Ready to deliver  2018-12-05 15:56:22\n",
       "228288  263240                 Delivered  2018-12-06 09:34:21\n",
       "228289  263240           IMEI correction  2018-12-06 09:42:56\n",
       "\n",
       "[228290 rows x 3 columns]"
      ]
     },
     "execution_count": 25,
     "metadata": {},
     "output_type": "execute_result"
    }
   ],
   "source": [
    "d7 = pd.read_csv(r\"hda_dataset_uniform_random_7.csv\")\n",
    "d7"
   ]
  },
  {
   "cell_type": "code",
   "execution_count": null,
   "metadata": {},
   "outputs": [],
   "source": []
  },
  {
   "cell_type": "code",
   "execution_count": null,
   "metadata": {},
   "outputs": [],
   "source": []
  },
  {
   "cell_type": "code",
   "execution_count": 26,
   "metadata": {},
   "outputs": [
    {
     "data": {
      "text/html": [
       "<div>\n",
       "<style scoped>\n",
       "    .dataframe tbody tr th:only-of-type {\n",
       "        vertical-align: middle;\n",
       "    }\n",
       "\n",
       "    .dataframe tbody tr th {\n",
       "        vertical-align: top;\n",
       "    }\n",
       "\n",
       "    .dataframe thead th {\n",
       "        text-align: right;\n",
       "    }\n",
       "</style>\n",
       "<table border=\"1\" class=\"dataframe\">\n",
       "  <thead>\n",
       "    <tr style=\"text-align: right;\">\n",
       "      <th></th>\n",
       "      <th>case</th>\n",
       "      <th>event</th>\n",
       "      <th>ts</th>\n",
       "    </tr>\n",
       "  </thead>\n",
       "  <tbody>\n",
       "    <tr>\n",
       "      <td>26</td>\n",
       "      <td>7</td>\n",
       "      <td>Invoiced</td>\n",
       "      <td>2018-09-05 23:01:14</td>\n",
       "    </tr>\n",
       "    <tr>\n",
       "      <td>39</td>\n",
       "      <td>8</td>\n",
       "      <td>Invoiced</td>\n",
       "      <td>2018-09-03 23:01:40</td>\n",
       "    </tr>\n",
       "    <tr>\n",
       "      <td>53</td>\n",
       "      <td>20</td>\n",
       "      <td>Invoiced</td>\n",
       "      <td>2018-09-07 23:16:14</td>\n",
       "    </tr>\n",
       "    <tr>\n",
       "      <td>67</td>\n",
       "      <td>31</td>\n",
       "      <td>Invoiced</td>\n",
       "      <td>2018-09-07 23:16:14</td>\n",
       "    </tr>\n",
       "    <tr>\n",
       "      <td>98</td>\n",
       "      <td>45</td>\n",
       "      <td>Invoiced</td>\n",
       "      <td>2018-09-19 23:01:16</td>\n",
       "    </tr>\n",
       "    <tr>\n",
       "      <td>...</td>\n",
       "      <td>...</td>\n",
       "      <td>...</td>\n",
       "      <td>...</td>\n",
       "    </tr>\n",
       "    <tr>\n",
       "      <td>228203</td>\n",
       "      <td>263141</td>\n",
       "      <td>Invoiced</td>\n",
       "      <td>2018-12-04 22:32:30</td>\n",
       "    </tr>\n",
       "    <tr>\n",
       "      <td>228239</td>\n",
       "      <td>263175</td>\n",
       "      <td>Invoiced</td>\n",
       "      <td>2018-12-04 23:47:07</td>\n",
       "    </tr>\n",
       "    <tr>\n",
       "      <td>228253</td>\n",
       "      <td>263189</td>\n",
       "      <td>Invoiced</td>\n",
       "      <td>2018-12-05 23:46:42</td>\n",
       "    </tr>\n",
       "    <tr>\n",
       "      <td>228269</td>\n",
       "      <td>263205</td>\n",
       "      <td>Invoiced</td>\n",
       "      <td>2018-12-06 22:46:48</td>\n",
       "    </tr>\n",
       "    <tr>\n",
       "      <td>228277</td>\n",
       "      <td>263239</td>\n",
       "      <td>Invoiced</td>\n",
       "      <td>2018-12-03 23:46:55</td>\n",
       "    </tr>\n",
       "  </tbody>\n",
       "</table>\n",
       "<p>91967 rows × 3 columns</p>\n",
       "</div>"
      ],
      "text/plain": [
       "          case     event                   ts\n",
       "26           7  Invoiced  2018-09-05 23:01:14\n",
       "39           8  Invoiced  2018-09-03 23:01:40\n",
       "53          20  Invoiced  2018-09-07 23:16:14\n",
       "67          31  Invoiced  2018-09-07 23:16:14\n",
       "98          45  Invoiced  2018-09-19 23:01:16\n",
       "...        ...       ...                  ...\n",
       "228203  263141  Invoiced  2018-12-04 22:32:30\n",
       "228239  263175  Invoiced  2018-12-04 23:47:07\n",
       "228253  263189  Invoiced  2018-12-05 23:46:42\n",
       "228269  263205  Invoiced  2018-12-06 22:46:48\n",
       "228277  263239  Invoiced  2018-12-03 23:46:55\n",
       "\n",
       "[91967 rows x 3 columns]"
      ]
     },
     "execution_count": 26,
     "metadata": {},
     "output_type": "execute_result"
    }
   ],
   "source": [
    "# appen dataframes into one dataframe\n",
    "dSum = d0;\n",
    "dSum = dSum.append(d1);\n",
    "dSum = dSum.append(d2);\n",
    "dSum = dSum.append(d3);\n",
    "dSum = dSum.append(d4);\n",
    "dSum = dSum.append(d5);\n",
    "dSum = dSum.append(d6);\n",
    "dSum = dSum.append(d7);\n",
    "\n",
    "# filter the event\n",
    "dSum = dSum[(dSum.event == \"Invoiced\") | (dSum.event == \"Processing return delivery\")]\n",
    "\n",
    "# drop duplicate row\n",
    "dSum.drop_duplicates( subset = ['case','event'], keep = \"first\", inplace = True)\n",
    "dSum.drop_duplicates(subset =\"case\", keep = False, inplace = True)\n",
    "dSum\n",
    "\n",
    "\n"
   ]
  },
  {
   "cell_type": "code",
   "execution_count": 105,
   "metadata": {},
   "outputs": [
    {
     "data": {
      "text/html": [
       "<div>\n",
       "<style scoped>\n",
       "    .dataframe tbody tr th:only-of-type {\n",
       "        vertical-align: middle;\n",
       "    }\n",
       "\n",
       "    .dataframe tbody tr th {\n",
       "        vertical-align: top;\n",
       "    }\n",
       "\n",
       "    .dataframe thead th {\n",
       "        text-align: right;\n",
       "    }\n",
       "</style>\n",
       "<table border=\"1\" class=\"dataframe\">\n",
       "  <thead>\n",
       "    <tr style=\"text-align: right;\">\n",
       "      <th></th>\n",
       "      <th>BRAND</th>\n",
       "      <th>ts</th>\n",
       "    </tr>\n",
       "  </thead>\n",
       "  <tbody>\n",
       "    <tr>\n",
       "      <td>0</td>\n",
       "      <td>BRAND_0</td>\n",
       "      <td>2018-10-08</td>\n",
       "    </tr>\n",
       "    <tr>\n",
       "      <td>1</td>\n",
       "      <td>BRAND_0</td>\n",
       "      <td>2018-10-08</td>\n",
       "    </tr>\n",
       "    <tr>\n",
       "      <td>2</td>\n",
       "      <td>BRAND_0</td>\n",
       "      <td>2018-10-09</td>\n",
       "    </tr>\n",
       "    <tr>\n",
       "      <td>3</td>\n",
       "      <td>BRAND_0</td>\n",
       "      <td>2018-10-08</td>\n",
       "    </tr>\n",
       "    <tr>\n",
       "      <td>4</td>\n",
       "      <td>BRAND_0</td>\n",
       "      <td>2018-10-08</td>\n",
       "    </tr>\n",
       "  </tbody>\n",
       "</table>\n",
       "</div>"
      ],
      "text/plain": [
       "     BRAND          ts\n",
       "0  BRAND_0  2018-10-08\n",
       "1  BRAND_0  2018-10-08\n",
       "2  BRAND_0  2018-10-09\n",
       "3  BRAND_0  2018-10-08\n",
       "4  BRAND_0  2018-10-08"
      ]
     },
     "execution_count": 105,
     "metadata": {},
     "output_type": "execute_result"
    }
   ],
   "source": [
    "\n",
    "#merge two dataframes: brands and dSum\n",
    "dJoinBrandsAndDsum = pd.merge( brands, dSum, left_on='pid', right_on='case')\n",
    "\n",
    "#filter to remove unneeded columns\n",
    "dJoinBrandsAndDsum =  dJoinBrandsAndDsum.filter( items = ['BRAND','ts'])\n",
    "\n",
    "#convert time string to datetime\n",
    "for index,row in dJoinBrandsAndDsum.iterrows():\n",
    "     row['ts'] = pd.to_datetime(row['ts']).date()\n",
    "\n",
    "dJoinBrandsAndDsum.head()"
   ]
  },
  {
   "cell_type": "code",
   "execution_count": null,
   "metadata": {},
   "outputs": [],
   "source": []
  },
  {
   "cell_type": "code",
   "execution_count": null,
   "metadata": {},
   "outputs": [],
   "source": []
  },
  {
   "cell_type": "code",
   "execution_count": null,
   "metadata": {},
   "outputs": [],
   "source": []
  },
  {
   "cell_type": "code",
   "execution_count": 113,
   "metadata": {},
   "outputs": [
    {
     "data": {
      "text/html": [
       "<div>\n",
       "<style scoped>\n",
       "    .dataframe tbody tr th:only-of-type {\n",
       "        vertical-align: middle;\n",
       "    }\n",
       "\n",
       "    .dataframe tbody tr th {\n",
       "        vertical-align: top;\n",
       "    }\n",
       "\n",
       "    .dataframe thead th {\n",
       "        text-align: right;\n",
       "    }\n",
       "</style>\n",
       "<table border=\"1\" class=\"dataframe\">\n",
       "  <thead>\n",
       "    <tr style=\"text-align: right;\">\n",
       "      <th></th>\n",
       "      <th>ts</th>\n",
       "      <th>count</th>\n",
       "    </tr>\n",
       "  </thead>\n",
       "  <tbody>\n",
       "    <tr>\n",
       "      <td>0</td>\n",
       "      <td>2018-09-03</td>\n",
       "      <td>33</td>\n",
       "    </tr>\n",
       "    <tr>\n",
       "      <td>1</td>\n",
       "      <td>2018-09-04</td>\n",
       "      <td>108</td>\n",
       "    </tr>\n",
       "    <tr>\n",
       "      <td>2</td>\n",
       "      <td>2018-09-05</td>\n",
       "      <td>165</td>\n",
       "    </tr>\n",
       "    <tr>\n",
       "      <td>3</td>\n",
       "      <td>2018-09-07</td>\n",
       "      <td>217</td>\n",
       "    </tr>\n",
       "    <tr>\n",
       "      <td>4</td>\n",
       "      <td>2018-09-10</td>\n",
       "      <td>191</td>\n",
       "    </tr>\n",
       "    <tr>\n",
       "      <td>...</td>\n",
       "      <td>...</td>\n",
       "      <td>...</td>\n",
       "    </tr>\n",
       "    <tr>\n",
       "      <td>56</td>\n",
       "      <td>2018-12-03</td>\n",
       "      <td>6</td>\n",
       "    </tr>\n",
       "    <tr>\n",
       "      <td>57</td>\n",
       "      <td>2018-12-04</td>\n",
       "      <td>139</td>\n",
       "    </tr>\n",
       "    <tr>\n",
       "      <td>58</td>\n",
       "      <td>2018-12-05</td>\n",
       "      <td>17</td>\n",
       "    </tr>\n",
       "    <tr>\n",
       "      <td>59</td>\n",
       "      <td>2018-12-06</td>\n",
       "      <td>4</td>\n",
       "    </tr>\n",
       "    <tr>\n",
       "      <td>60</td>\n",
       "      <td>2018-12-07</td>\n",
       "      <td>6</td>\n",
       "    </tr>\n",
       "  </tbody>\n",
       "</table>\n",
       "<p>61 rows × 2 columns</p>\n",
       "</div>"
      ],
      "text/plain": [
       "            ts  count\n",
       "0   2018-09-03     33\n",
       "1   2018-09-04    108\n",
       "2   2018-09-05    165\n",
       "3   2018-09-07    217\n",
       "4   2018-09-10    191\n",
       "..         ...    ...\n",
       "56  2018-12-03      6\n",
       "57  2018-12-04    139\n",
       "58  2018-12-05     17\n",
       "59  2018-12-06      4\n",
       "60  2018-12-07      6\n",
       "\n",
       "[61 rows x 2 columns]"
      ]
     },
     "execution_count": 113,
     "metadata": {},
     "output_type": "execute_result"
    }
   ],
   "source": []
  },
  {
   "cell_type": "code",
   "execution_count": 112,
   "metadata": {},
   "outputs": [
    {
     "data": {
      "application/vnd.plotly.v1+json": {
       "config": {
        "plotlyServerURL": "https://plot.ly"
       },
       "data": [
        {
         "hoverlabel": {
          "namelength": 0
         },
         "hovertemplate": "BRAND=BRAND_0<br>ts=%{x}<br>count=%{y}",
         "legendgroup": "BRAND=BRAND_0",
         "line": {
          "color": "#636efa",
          "dash": "solid"
         },
         "mode": "lines",
         "name": "BRAND=BRAND_0",
         "showlegend": true,
         "type": "scatter",
         "x": [
          "2018-09-03",
          "2018-09-04",
          "2018-09-05",
          "2018-09-07",
          "2018-09-10",
          "2018-09-11",
          "2018-09-12",
          "2018-09-13",
          "2018-09-14",
          "2018-09-17",
          "2018-09-18",
          "2018-09-19",
          "2018-09-20",
          "2018-09-21",
          "2018-09-24",
          "2018-09-25",
          "2018-09-26",
          "2018-09-27",
          "2018-09-28",
          "2018-10-01",
          "2018-10-02",
          "2018-10-03",
          "2018-10-05",
          "2018-10-08",
          "2018-10-09",
          "2018-10-10",
          "2018-10-11",
          "2018-10-12",
          "2018-10-15",
          "2018-10-16",
          "2018-10-17",
          "2018-10-18",
          "2018-10-19",
          "2018-10-22",
          "2018-10-23",
          "2018-10-25",
          "2018-10-26",
          "2018-10-29",
          "2018-10-30",
          "2018-10-31",
          "2018-11-05",
          "2018-11-06",
          "2018-11-07",
          "2018-11-08",
          "2018-11-09",
          "2018-11-12",
          "2018-11-14",
          "2018-11-15",
          "2018-11-16",
          "2018-11-19",
          "2018-11-20",
          "2018-11-21",
          "2018-11-22",
          "2018-11-23",
          "2018-11-26",
          "2018-11-28",
          "2018-11-29",
          "2018-11-30",
          "2018-12-01",
          "2018-12-03",
          "2018-12-04",
          "2018-12-05",
          "2018-12-07"
         ],
         "xaxis": "x",
         "y": [
          8,
          6,
          15,
          17,
          16,
          19,
          10,
          23,
          16,
          18,
          22,
          21,
          20,
          7,
          13,
          15,
          15,
          10,
          14,
          21,
          17,
          29,
          15,
          28,
          9,
          15,
          9,
          10,
          23,
          15,
          17,
          16,
          10,
          10,
          8,
          35,
          4,
          9,
          3,
          4,
          1,
          8,
          24,
          56,
          15,
          4,
          8,
          29,
          17,
          8,
          14,
          15,
          24,
          6,
          9,
          32,
          11,
          18,
          1,
          8,
          27,
          2,
          1
         ],
         "yaxis": "y"
        },
        {
         "hoverlabel": {
          "namelength": 0
         },
         "hovertemplate": "BRAND=BRAND_1<br>ts=%{x}<br>count=%{y}",
         "legendgroup": "BRAND=BRAND_1",
         "line": {
          "color": "#EF553B",
          "dash": "solid"
         },
         "mode": "lines",
         "name": "BRAND=BRAND_1",
         "showlegend": true,
         "type": "scatter",
         "x": [
          "2018-09-03",
          "2018-09-04",
          "2018-09-05",
          "2018-09-07",
          "2018-09-10",
          "2018-09-11",
          "2018-09-12",
          "2018-09-13",
          "2018-09-14",
          "2018-09-17",
          "2018-09-18",
          "2018-09-19",
          "2018-09-20",
          "2018-09-21",
          "2018-09-24",
          "2018-09-25",
          "2018-09-26",
          "2018-09-27",
          "2018-09-28",
          "2018-10-01",
          "2018-10-02",
          "2018-10-03",
          "2018-10-05",
          "2018-10-08",
          "2018-10-09",
          "2018-10-10",
          "2018-10-11",
          "2018-10-12",
          "2018-10-13",
          "2018-10-15",
          "2018-10-16",
          "2018-10-17",
          "2018-10-18",
          "2018-10-19",
          "2018-10-20",
          "2018-10-22",
          "2018-10-23",
          "2018-10-24",
          "2018-10-25",
          "2018-10-26",
          "2018-10-27",
          "2018-10-29",
          "2018-10-30",
          "2018-10-31",
          "2018-11-01",
          "2018-11-02",
          "2018-11-03",
          "2018-11-05",
          "2018-11-06",
          "2018-11-07",
          "2018-11-08",
          "2018-11-09",
          "2018-11-12",
          "2018-11-14",
          "2018-11-15",
          "2018-11-16",
          "2018-11-17",
          "2018-11-19",
          "2018-11-20",
          "2018-11-21",
          "2018-11-22",
          "2018-11-23",
          "2018-11-24",
          "2018-11-26",
          "2018-11-27",
          "2018-11-28",
          "2018-11-29",
          "2018-11-30",
          "2018-12-01",
          "2018-12-03",
          "2018-12-04",
          "2018-12-05",
          "2018-12-06",
          "2018-12-07",
          "2018-12-08"
         ],
         "xaxis": "x",
         "y": [
          214,
          552,
          633,
          1327,
          1181,
          998,
          1040,
          744,
          1100,
          1206,
          676,
          776,
          847,
          675,
          994,
          736,
          618,
          733,
          853,
          1035,
          1025,
          792,
          1132,
          1270,
          796,
          1309,
          992,
          963,
          22,
          1420,
          1321,
          1246,
          1332,
          1039,
          8,
          492,
          477,
          16,
          3699,
          190,
          3,
          1146,
          417,
          432,
          496,
          15,
          25,
          388,
          346,
          1503,
          3545,
          2826,
          567,
          965,
          2138,
          1448,
          16,
          1109,
          962,
          1085,
          2123,
          1002,
          110,
          1327,
          76,
          3389,
          1833,
          1433,
          311,
          593,
          1792,
          254,
          362,
          205,
          21
         ],
         "yaxis": "y"
        },
        {
         "hoverlabel": {
          "namelength": 0
         },
         "hovertemplate": "BRAND=BRAND_2<br>ts=%{x}<br>count=%{y}",
         "legendgroup": "BRAND=BRAND_2",
         "line": {
          "color": "#00cc96",
          "dash": "solid"
         },
         "mode": "lines",
         "name": "BRAND=BRAND_2",
         "showlegend": true,
         "type": "scatter",
         "x": [
          "2018-09-03",
          "2018-09-04",
          "2018-09-05",
          "2018-09-07",
          "2018-09-10",
          "2018-09-11",
          "2018-09-12",
          "2018-09-13",
          "2018-09-14",
          "2018-09-17",
          "2018-09-18",
          "2018-09-19",
          "2018-09-20",
          "2018-09-21",
          "2018-09-24",
          "2018-09-25",
          "2018-09-26",
          "2018-09-27",
          "2018-09-28",
          "2018-10-01",
          "2018-10-02",
          "2018-10-03",
          "2018-10-05",
          "2018-10-08",
          "2018-10-09",
          "2018-10-10",
          "2018-10-11",
          "2018-10-12",
          "2018-10-13",
          "2018-10-15",
          "2018-10-16",
          "2018-10-17",
          "2018-10-18",
          "2018-10-19",
          "2018-10-20",
          "2018-10-22",
          "2018-10-23",
          "2018-10-24",
          "2018-10-25",
          "2018-10-26",
          "2018-10-27",
          "2018-10-29",
          "2018-10-30",
          "2018-10-31",
          "2018-11-01",
          "2018-11-02",
          "2018-11-03",
          "2018-11-05",
          "2018-11-06",
          "2018-11-07",
          "2018-11-08",
          "2018-11-09",
          "2018-11-12",
          "2018-11-14",
          "2018-11-15",
          "2018-11-16",
          "2018-11-17",
          "2018-11-19",
          "2018-11-20",
          "2018-11-21",
          "2018-11-22",
          "2018-11-23",
          "2018-11-24",
          "2018-11-26",
          "2018-11-27",
          "2018-11-28",
          "2018-11-29",
          "2018-11-30",
          "2018-12-01",
          "2018-12-03",
          "2018-12-04",
          "2018-12-06",
          "2018-12-07",
          "2018-12-08"
         ],
         "xaxis": "x",
         "y": [
          11,
          24,
          50,
          83,
          65,
          44,
          74,
          65,
          92,
          106,
          50,
          58,
          46,
          18,
          65,
          120,
          52,
          39,
          43,
          47,
          35,
          21,
          80,
          104,
          23,
          62,
          76,
          53,
          11,
          66,
          67,
          70,
          90,
          65,
          4,
          60,
          33,
          3,
          211,
          33,
          3,
          82,
          76,
          34,
          25,
          5,
          4,
          29,
          26,
          10,
          153,
          419,
          106,
          111,
          33,
          174,
          93,
          134,
          21,
          28,
          108,
          2,
          73,
          18,
          75,
          105,
          97,
          10,
          29,
          2,
          48,
          10,
          8,
          6
         ],
         "yaxis": "y"
        },
        {
         "hoverlabel": {
          "namelength": 0
         },
         "hovertemplate": "BRAND=BRAND_3<br>ts=%{x}<br>count=%{y}",
         "legendgroup": "BRAND=BRAND_3",
         "line": {
          "color": "#ab63fa",
          "dash": "solid"
         },
         "mode": "lines",
         "name": "BRAND=BRAND_3",
         "showlegend": true,
         "type": "scatter",
         "x": [
          "2018-09-03",
          "2018-09-04",
          "2018-09-05",
          "2018-09-07",
          "2018-09-10",
          "2018-09-11",
          "2018-09-12",
          "2018-09-13",
          "2018-09-14",
          "2018-09-17",
          "2018-09-18",
          "2018-09-19",
          "2018-09-20",
          "2018-09-21",
          "2018-09-24",
          "2018-09-25",
          "2018-09-26",
          "2018-09-27",
          "2018-10-01",
          "2018-10-03",
          "2018-10-05",
          "2018-10-08",
          "2018-10-09",
          "2018-10-10",
          "2018-10-11",
          "2018-10-12",
          "2018-10-16",
          "2018-10-17",
          "2018-10-18",
          "2018-10-19",
          "2018-10-25",
          "2018-10-29",
          "2018-11-08",
          "2018-11-09",
          "2018-11-15",
          "2018-11-16",
          "2018-11-21",
          "2018-11-22",
          "2018-11-28",
          "2018-11-29",
          "2018-11-30",
          "2018-12-03",
          "2018-12-04"
         ],
         "xaxis": "x",
         "y": [
          1,
          1,
          1,
          3,
          2,
          2,
          1,
          1,
          4,
          1,
          1,
          2,
          1,
          3,
          4,
          1,
          2,
          1,
          2,
          2,
          1,
          4,
          2,
          1,
          1,
          2,
          1,
          2,
          5,
          2,
          5,
          2,
          4,
          9,
          2,
          2,
          2,
          3,
          5,
          1,
          1,
          1,
          3
         ],
         "yaxis": "y"
        },
        {
         "hoverlabel": {
          "namelength": 0
         },
         "hovertemplate": "BRAND=BRAND_4<br>ts=%{x}<br>count=%{y}",
         "legendgroup": "BRAND=BRAND_4",
         "line": {
          "color": "#FFA15A",
          "dash": "solid"
         },
         "mode": "lines",
         "name": "BRAND=BRAND_4",
         "showlegend": true,
         "type": "scatter",
         "x": [
          "2018-09-03",
          "2018-09-04",
          "2018-09-05",
          "2018-09-07",
          "2018-09-10",
          "2018-09-11",
          "2018-09-12",
          "2018-09-13",
          "2018-09-14",
          "2018-09-17",
          "2018-09-18",
          "2018-09-19",
          "2018-09-20",
          "2018-09-21",
          "2018-09-24",
          "2018-09-25",
          "2018-09-26",
          "2018-09-27",
          "2018-09-28",
          "2018-10-01",
          "2018-10-02",
          "2018-10-03",
          "2018-10-05",
          "2018-10-08",
          "2018-10-09",
          "2018-10-10",
          "2018-10-11",
          "2018-10-12",
          "2018-10-15",
          "2018-10-16",
          "2018-10-17",
          "2018-10-18",
          "2018-10-19",
          "2018-10-23",
          "2018-10-25",
          "2018-10-29",
          "2018-11-05",
          "2018-11-07",
          "2018-11-08",
          "2018-11-09",
          "2018-11-12",
          "2018-11-14",
          "2018-11-15",
          "2018-11-16",
          "2018-11-19",
          "2018-11-20",
          "2018-11-21",
          "2018-11-22",
          "2018-11-23",
          "2018-11-26",
          "2018-11-28",
          "2018-11-29",
          "2018-11-30",
          "2018-12-01",
          "2018-12-03",
          "2018-12-04",
          "2018-12-05",
          "2018-12-06"
         ],
         "xaxis": "x",
         "y": [
          6,
          7,
          3,
          2,
          5,
          5,
          8,
          4,
          9,
          17,
          9,
          13,
          3,
          7,
          12,
          4,
          2,
          11,
          6,
          15,
          14,
          4,
          5,
          6,
          4,
          6,
          5,
          7,
          13,
          4,
          5,
          7,
          5,
          1,
          12,
          5,
          1,
          17,
          31,
          4,
          2,
          1,
          15,
          5,
          4,
          1,
          8,
          14,
          2,
          2,
          11,
          3,
          4,
          2,
          1,
          8,
          1,
          1
         ],
         "yaxis": "y"
        },
        {
         "hoverlabel": {
          "namelength": 0
         },
         "hovertemplate": "BRAND=BRAND_5<br>ts=%{x}<br>count=%{y}",
         "legendgroup": "BRAND=BRAND_5",
         "line": {
          "color": "#19d3f3",
          "dash": "solid"
         },
         "mode": "lines",
         "name": "BRAND=BRAND_5",
         "showlegend": true,
         "type": "scatter",
         "x": [
          "2018-09-10",
          "2018-09-11",
          "2018-10-12",
          "2018-11-15"
         ],
         "xaxis": "x",
         "y": [
          1,
          1,
          1,
          1
         ],
         "yaxis": "y"
        },
        {
         "hoverlabel": {
          "namelength": 0
         },
         "hovertemplate": "BRAND=BRAND_6<br>ts=%{x}<br>count=%{y}",
         "legendgroup": "BRAND=BRAND_6",
         "line": {
          "color": "#FF6692",
          "dash": "solid"
         },
         "mode": "lines",
         "name": "BRAND=BRAND_6",
         "showlegend": true,
         "type": "scatter",
         "x": [
          "2018-09-03",
          "2018-09-04",
          "2018-09-05",
          "2018-09-07",
          "2018-09-10",
          "2018-09-11",
          "2018-09-12",
          "2018-09-13",
          "2018-09-14",
          "2018-09-17",
          "2018-09-18",
          "2018-09-19",
          "2018-09-20",
          "2018-09-21",
          "2018-09-24",
          "2018-09-25",
          "2018-09-26",
          "2018-09-27",
          "2018-09-28",
          "2018-10-01",
          "2018-10-02",
          "2018-10-03",
          "2018-10-05",
          "2018-10-08",
          "2018-10-09",
          "2018-10-10",
          "2018-10-11",
          "2018-10-12",
          "2018-10-15",
          "2018-10-16",
          "2018-10-17",
          "2018-10-18",
          "2018-10-19",
          "2018-10-22",
          "2018-10-23",
          "2018-10-25",
          "2018-10-29",
          "2018-10-30",
          "2018-11-05",
          "2018-11-07",
          "2018-11-08",
          "2018-11-09",
          "2018-11-12",
          "2018-11-14",
          "2018-11-15",
          "2018-11-16",
          "2018-11-19",
          "2018-11-20",
          "2018-11-21",
          "2018-11-22",
          "2018-11-23",
          "2018-11-26",
          "2018-11-28",
          "2018-11-29",
          "2018-11-30",
          "2018-12-01",
          "2018-12-03",
          "2018-12-04",
          "2018-12-05",
          "2018-12-06",
          "2018-12-07"
         ],
         "xaxis": "x",
         "y": [
          33,
          108,
          165,
          217,
          191,
          105,
          123,
          85,
          128,
          200,
          99,
          94,
          113,
          34,
          107,
          49,
          218,
          180,
          190,
          145,
          122,
          215,
          196,
          177,
          32,
          168,
          160,
          98,
          170,
          143,
          113,
          86,
          82,
          36,
          5,
          367,
          74,
          9,
          1,
          208,
          620,
          351,
          56,
          231,
          647,
          170,
          21,
          51,
          201,
          647,
          107,
          97,
          274,
          74,
          60,
          16,
          6,
          139,
          17,
          4,
          6
         ],
         "yaxis": "y"
        },
        {
         "hoverlabel": {
          "namelength": 0
         },
         "hovertemplate": "BRAND=BRAND_7<br>ts=%{x}<br>count=%{y}",
         "legendgroup": "BRAND=BRAND_7",
         "line": {
          "color": "#B6E880",
          "dash": "solid"
         },
         "mode": "lines",
         "name": "BRAND=BRAND_7",
         "showlegend": true,
         "type": "scatter",
         "x": [
          "2018-11-05",
          "2018-11-06",
          "2018-11-08",
          "2018-11-09",
          "2018-11-12",
          "2018-11-14",
          "2018-11-15",
          "2018-11-16",
          "2018-11-19",
          "2018-11-20",
          "2018-11-21",
          "2018-11-22",
          "2018-11-23",
          "2018-11-26",
          "2018-11-28",
          "2018-11-29",
          "2018-11-30",
          "2018-12-03",
          "2018-12-04",
          "2018-12-05",
          "2018-12-06",
          "2018-12-07"
         ],
         "xaxis": "x",
         "y": [
          4,
          1,
          41,
          15,
          25,
          48,
          83,
          71,
          289,
          516,
          401,
          281,
          275,
          453,
          1279,
          432,
          348,
          819,
          103,
          625,
          264,
          31
         ],
         "yaxis": "y"
        },
        {
         "hoverlabel": {
          "namelength": 0
         },
         "hovertemplate": "BRAND=BRAND_8<br>ts=%{x}<br>count=%{y}",
         "legendgroup": "BRAND=BRAND_8",
         "line": {
          "color": "#FF97FF",
          "dash": "solid"
         },
         "mode": "lines",
         "name": "BRAND=BRAND_8",
         "showlegend": true,
         "type": "scatter",
         "x": [
          "2018-09-04",
          "2018-09-10",
          "2018-09-13",
          "2018-09-17",
          "2018-09-18",
          "2018-09-24",
          "2018-10-11",
          "2018-10-16",
          "2018-10-17",
          "2018-11-06",
          "2018-11-14",
          "2018-11-16",
          "2018-11-22",
          "2018-11-28"
         ],
         "xaxis": "x",
         "y": [
          1,
          2,
          1,
          1,
          1,
          1,
          1,
          2,
          1,
          1,
          1,
          1,
          1,
          1
         ],
         "yaxis": "y"
        },
        {
         "hoverlabel": {
          "namelength": 0
         },
         "hovertemplate": "BRAND=BRAND_9<br>ts=%{x}<br>count=%{y}",
         "legendgroup": "BRAND=BRAND_9",
         "line": {
          "color": "#FECB52",
          "dash": "solid"
         },
         "mode": "lines",
         "name": "BRAND=BRAND_9",
         "showlegend": true,
         "type": "scatter",
         "x": [
          "2018-09-03",
          "2018-09-05",
          "2018-09-11",
          "2018-09-13",
          "2018-09-14",
          "2018-09-17",
          "2018-09-18",
          "2018-09-19",
          "2018-09-20",
          "2018-09-25",
          "2018-09-26",
          "2018-09-27",
          "2018-09-28",
          "2018-10-01",
          "2018-10-02",
          "2018-10-03",
          "2018-10-08",
          "2018-10-09",
          "2018-10-10",
          "2018-10-11",
          "2018-10-12",
          "2018-10-15",
          "2018-10-18",
          "2018-10-22",
          "2018-10-23",
          "2018-11-05",
          "2018-11-07",
          "2018-11-08",
          "2018-11-09",
          "2018-11-15",
          "2018-11-16",
          "2018-11-19",
          "2018-11-20",
          "2018-11-23",
          "2018-11-28",
          "2018-11-29"
         ],
         "xaxis": "x",
         "y": [
          1,
          1,
          2,
          1,
          4,
          1,
          1,
          1,
          2,
          1,
          1,
          3,
          2,
          3,
          1,
          2,
          2,
          2,
          1,
          1,
          1,
          1,
          4,
          1,
          2,
          1,
          4,
          7,
          1,
          3,
          1,
          3,
          1,
          1,
          2,
          2
         ],
         "yaxis": "y"
        }
       ],
       "layout": {
        "height": 600,
        "legend": {
         "tracegroupgap": 0
        },
        "margin": {
         "t": 60
        },
        "template": {
         "data": {
          "bar": [
           {
            "error_x": {
             "color": "#2a3f5f"
            },
            "error_y": {
             "color": "#2a3f5f"
            },
            "marker": {
             "line": {
              "color": "#E5ECF6",
              "width": 0.5
             }
            },
            "type": "bar"
           }
          ],
          "barpolar": [
           {
            "marker": {
             "line": {
              "color": "#E5ECF6",
              "width": 0.5
             }
            },
            "type": "barpolar"
           }
          ],
          "carpet": [
           {
            "aaxis": {
             "endlinecolor": "#2a3f5f",
             "gridcolor": "white",
             "linecolor": "white",
             "minorgridcolor": "white",
             "startlinecolor": "#2a3f5f"
            },
            "baxis": {
             "endlinecolor": "#2a3f5f",
             "gridcolor": "white",
             "linecolor": "white",
             "minorgridcolor": "white",
             "startlinecolor": "#2a3f5f"
            },
            "type": "carpet"
           }
          ],
          "choropleth": [
           {
            "colorbar": {
             "outlinewidth": 0,
             "ticks": ""
            },
            "type": "choropleth"
           }
          ],
          "contour": [
           {
            "colorbar": {
             "outlinewidth": 0,
             "ticks": ""
            },
            "colorscale": [
             [
              0,
              "#0d0887"
             ],
             [
              0.1111111111111111,
              "#46039f"
             ],
             [
              0.2222222222222222,
              "#7201a8"
             ],
             [
              0.3333333333333333,
              "#9c179e"
             ],
             [
              0.4444444444444444,
              "#bd3786"
             ],
             [
              0.5555555555555556,
              "#d8576b"
             ],
             [
              0.6666666666666666,
              "#ed7953"
             ],
             [
              0.7777777777777778,
              "#fb9f3a"
             ],
             [
              0.8888888888888888,
              "#fdca26"
             ],
             [
              1,
              "#f0f921"
             ]
            ],
            "type": "contour"
           }
          ],
          "contourcarpet": [
           {
            "colorbar": {
             "outlinewidth": 0,
             "ticks": ""
            },
            "type": "contourcarpet"
           }
          ],
          "heatmap": [
           {
            "colorbar": {
             "outlinewidth": 0,
             "ticks": ""
            },
            "colorscale": [
             [
              0,
              "#0d0887"
             ],
             [
              0.1111111111111111,
              "#46039f"
             ],
             [
              0.2222222222222222,
              "#7201a8"
             ],
             [
              0.3333333333333333,
              "#9c179e"
             ],
             [
              0.4444444444444444,
              "#bd3786"
             ],
             [
              0.5555555555555556,
              "#d8576b"
             ],
             [
              0.6666666666666666,
              "#ed7953"
             ],
             [
              0.7777777777777778,
              "#fb9f3a"
             ],
             [
              0.8888888888888888,
              "#fdca26"
             ],
             [
              1,
              "#f0f921"
             ]
            ],
            "type": "heatmap"
           }
          ],
          "heatmapgl": [
           {
            "colorbar": {
             "outlinewidth": 0,
             "ticks": ""
            },
            "colorscale": [
             [
              0,
              "#0d0887"
             ],
             [
              0.1111111111111111,
              "#46039f"
             ],
             [
              0.2222222222222222,
              "#7201a8"
             ],
             [
              0.3333333333333333,
              "#9c179e"
             ],
             [
              0.4444444444444444,
              "#bd3786"
             ],
             [
              0.5555555555555556,
              "#d8576b"
             ],
             [
              0.6666666666666666,
              "#ed7953"
             ],
             [
              0.7777777777777778,
              "#fb9f3a"
             ],
             [
              0.8888888888888888,
              "#fdca26"
             ],
             [
              1,
              "#f0f921"
             ]
            ],
            "type": "heatmapgl"
           }
          ],
          "histogram": [
           {
            "marker": {
             "colorbar": {
              "outlinewidth": 0,
              "ticks": ""
             }
            },
            "type": "histogram"
           }
          ],
          "histogram2d": [
           {
            "colorbar": {
             "outlinewidth": 0,
             "ticks": ""
            },
            "colorscale": [
             [
              0,
              "#0d0887"
             ],
             [
              0.1111111111111111,
              "#46039f"
             ],
             [
              0.2222222222222222,
              "#7201a8"
             ],
             [
              0.3333333333333333,
              "#9c179e"
             ],
             [
              0.4444444444444444,
              "#bd3786"
             ],
             [
              0.5555555555555556,
              "#d8576b"
             ],
             [
              0.6666666666666666,
              "#ed7953"
             ],
             [
              0.7777777777777778,
              "#fb9f3a"
             ],
             [
              0.8888888888888888,
              "#fdca26"
             ],
             [
              1,
              "#f0f921"
             ]
            ],
            "type": "histogram2d"
           }
          ],
          "histogram2dcontour": [
           {
            "colorbar": {
             "outlinewidth": 0,
             "ticks": ""
            },
            "colorscale": [
             [
              0,
              "#0d0887"
             ],
             [
              0.1111111111111111,
              "#46039f"
             ],
             [
              0.2222222222222222,
              "#7201a8"
             ],
             [
              0.3333333333333333,
              "#9c179e"
             ],
             [
              0.4444444444444444,
              "#bd3786"
             ],
             [
              0.5555555555555556,
              "#d8576b"
             ],
             [
              0.6666666666666666,
              "#ed7953"
             ],
             [
              0.7777777777777778,
              "#fb9f3a"
             ],
             [
              0.8888888888888888,
              "#fdca26"
             ],
             [
              1,
              "#f0f921"
             ]
            ],
            "type": "histogram2dcontour"
           }
          ],
          "mesh3d": [
           {
            "colorbar": {
             "outlinewidth": 0,
             "ticks": ""
            },
            "type": "mesh3d"
           }
          ],
          "parcoords": [
           {
            "line": {
             "colorbar": {
              "outlinewidth": 0,
              "ticks": ""
             }
            },
            "type": "parcoords"
           }
          ],
          "scatter": [
           {
            "marker": {
             "colorbar": {
              "outlinewidth": 0,
              "ticks": ""
             }
            },
            "type": "scatter"
           }
          ],
          "scatter3d": [
           {
            "line": {
             "colorbar": {
              "outlinewidth": 0,
              "ticks": ""
             }
            },
            "marker": {
             "colorbar": {
              "outlinewidth": 0,
              "ticks": ""
             }
            },
            "type": "scatter3d"
           }
          ],
          "scattercarpet": [
           {
            "marker": {
             "colorbar": {
              "outlinewidth": 0,
              "ticks": ""
             }
            },
            "type": "scattercarpet"
           }
          ],
          "scattergeo": [
           {
            "marker": {
             "colorbar": {
              "outlinewidth": 0,
              "ticks": ""
             }
            },
            "type": "scattergeo"
           }
          ],
          "scattergl": [
           {
            "marker": {
             "colorbar": {
              "outlinewidth": 0,
              "ticks": ""
             }
            },
            "type": "scattergl"
           }
          ],
          "scattermapbox": [
           {
            "marker": {
             "colorbar": {
              "outlinewidth": 0,
              "ticks": ""
             }
            },
            "type": "scattermapbox"
           }
          ],
          "scatterpolar": [
           {
            "marker": {
             "colorbar": {
              "outlinewidth": 0,
              "ticks": ""
             }
            },
            "type": "scatterpolar"
           }
          ],
          "scatterpolargl": [
           {
            "marker": {
             "colorbar": {
              "outlinewidth": 0,
              "ticks": ""
             }
            },
            "type": "scatterpolargl"
           }
          ],
          "scatterternary": [
           {
            "marker": {
             "colorbar": {
              "outlinewidth": 0,
              "ticks": ""
             }
            },
            "type": "scatterternary"
           }
          ],
          "surface": [
           {
            "colorbar": {
             "outlinewidth": 0,
             "ticks": ""
            },
            "colorscale": [
             [
              0,
              "#0d0887"
             ],
             [
              0.1111111111111111,
              "#46039f"
             ],
             [
              0.2222222222222222,
              "#7201a8"
             ],
             [
              0.3333333333333333,
              "#9c179e"
             ],
             [
              0.4444444444444444,
              "#bd3786"
             ],
             [
              0.5555555555555556,
              "#d8576b"
             ],
             [
              0.6666666666666666,
              "#ed7953"
             ],
             [
              0.7777777777777778,
              "#fb9f3a"
             ],
             [
              0.8888888888888888,
              "#fdca26"
             ],
             [
              1,
              "#f0f921"
             ]
            ],
            "type": "surface"
           }
          ],
          "table": [
           {
            "cells": {
             "fill": {
              "color": "#EBF0F8"
             },
             "line": {
              "color": "white"
             }
            },
            "header": {
             "fill": {
              "color": "#C8D4E3"
             },
             "line": {
              "color": "white"
             }
            },
            "type": "table"
           }
          ]
         },
         "layout": {
          "annotationdefaults": {
           "arrowcolor": "#2a3f5f",
           "arrowhead": 0,
           "arrowwidth": 1
          },
          "colorscale": {
           "diverging": [
            [
             0,
             "#8e0152"
            ],
            [
             0.1,
             "#c51b7d"
            ],
            [
             0.2,
             "#de77ae"
            ],
            [
             0.3,
             "#f1b6da"
            ],
            [
             0.4,
             "#fde0ef"
            ],
            [
             0.5,
             "#f7f7f7"
            ],
            [
             0.6,
             "#e6f5d0"
            ],
            [
             0.7,
             "#b8e186"
            ],
            [
             0.8,
             "#7fbc41"
            ],
            [
             0.9,
             "#4d9221"
            ],
            [
             1,
             "#276419"
            ]
           ],
           "sequential": [
            [
             0,
             "#0d0887"
            ],
            [
             0.1111111111111111,
             "#46039f"
            ],
            [
             0.2222222222222222,
             "#7201a8"
            ],
            [
             0.3333333333333333,
             "#9c179e"
            ],
            [
             0.4444444444444444,
             "#bd3786"
            ],
            [
             0.5555555555555556,
             "#d8576b"
            ],
            [
             0.6666666666666666,
             "#ed7953"
            ],
            [
             0.7777777777777778,
             "#fb9f3a"
            ],
            [
             0.8888888888888888,
             "#fdca26"
            ],
            [
             1,
             "#f0f921"
            ]
           ],
           "sequentialminus": [
            [
             0,
             "#0d0887"
            ],
            [
             0.1111111111111111,
             "#46039f"
            ],
            [
             0.2222222222222222,
             "#7201a8"
            ],
            [
             0.3333333333333333,
             "#9c179e"
            ],
            [
             0.4444444444444444,
             "#bd3786"
            ],
            [
             0.5555555555555556,
             "#d8576b"
            ],
            [
             0.6666666666666666,
             "#ed7953"
            ],
            [
             0.7777777777777778,
             "#fb9f3a"
            ],
            [
             0.8888888888888888,
             "#fdca26"
            ],
            [
             1,
             "#f0f921"
            ]
           ]
          },
          "colorway": [
           "#636efa",
           "#EF553B",
           "#00cc96",
           "#ab63fa",
           "#FFA15A",
           "#19d3f3",
           "#FF6692",
           "#B6E880",
           "#FF97FF",
           "#FECB52"
          ],
          "font": {
           "color": "#2a3f5f"
          },
          "geo": {
           "bgcolor": "white",
           "lakecolor": "white",
           "landcolor": "#E5ECF6",
           "showlakes": true,
           "showland": true,
           "subunitcolor": "white"
          },
          "hoverlabel": {
           "align": "left"
          },
          "hovermode": "closest",
          "mapbox": {
           "style": "light"
          },
          "paper_bgcolor": "white",
          "plot_bgcolor": "#E5ECF6",
          "polar": {
           "angularaxis": {
            "gridcolor": "white",
            "linecolor": "white",
            "ticks": ""
           },
           "bgcolor": "#E5ECF6",
           "radialaxis": {
            "gridcolor": "white",
            "linecolor": "white",
            "ticks": ""
           }
          },
          "scene": {
           "xaxis": {
            "backgroundcolor": "#E5ECF6",
            "gridcolor": "white",
            "gridwidth": 2,
            "linecolor": "white",
            "showbackground": true,
            "ticks": "",
            "zerolinecolor": "white"
           },
           "yaxis": {
            "backgroundcolor": "#E5ECF6",
            "gridcolor": "white",
            "gridwidth": 2,
            "linecolor": "white",
            "showbackground": true,
            "ticks": "",
            "zerolinecolor": "white"
           },
           "zaxis": {
            "backgroundcolor": "#E5ECF6",
            "gridcolor": "white",
            "gridwidth": 2,
            "linecolor": "white",
            "showbackground": true,
            "ticks": "",
            "zerolinecolor": "white"
           }
          },
          "shapedefaults": {
           "line": {
            "color": "#2a3f5f"
           }
          },
          "ternary": {
           "aaxis": {
            "gridcolor": "white",
            "linecolor": "white",
            "ticks": ""
           },
           "baxis": {
            "gridcolor": "white",
            "linecolor": "white",
            "ticks": ""
           },
           "bgcolor": "#E5ECF6",
           "caxis": {
            "gridcolor": "white",
            "linecolor": "white",
            "ticks": ""
           }
          },
          "title": {
           "x": 0.05
          },
          "xaxis": {
           "automargin": true,
           "gridcolor": "white",
           "linecolor": "white",
           "ticks": "",
           "zerolinecolor": "white",
           "zerolinewidth": 2
          },
          "yaxis": {
           "automargin": true,
           "gridcolor": "white",
           "linecolor": "white",
           "ticks": "",
           "zerolinecolor": "white",
           "zerolinewidth": 2
          }
         }
        },
        "xaxis": {
         "anchor": "y",
         "domain": [
          0,
          0.98
         ],
         "title": {
          "text": "ts"
         }
        },
        "yaxis": {
         "anchor": "x",
         "domain": [
          0,
          1
         ],
         "title": {
          "text": "count"
         }
        }
       }
      },
      "text/html": [
       "<div>\n",
       "        \n",
       "        \n",
       "            <div id=\"f08e6a93-5e5a-4725-a1eb-dd97b95aebe8\" class=\"plotly-graph-div\" style=\"height:600px; width:100%;\"></div>\n",
       "            <script type=\"text/javascript\">\n",
       "                require([\"plotly\"], function(Plotly) {\n",
       "                    window.PLOTLYENV=window.PLOTLYENV || {};\n",
       "                    \n",
       "                if (document.getElementById(\"f08e6a93-5e5a-4725-a1eb-dd97b95aebe8\")) {\n",
       "                    Plotly.newPlot(\n",
       "                        'f08e6a93-5e5a-4725-a1eb-dd97b95aebe8',\n",
       "                        [{\"hoverlabel\": {\"namelength\": 0}, \"hovertemplate\": \"BRAND=BRAND_0<br>ts=%{x}<br>count=%{y}\", \"legendgroup\": \"BRAND=BRAND_0\", \"line\": {\"color\": \"#636efa\", \"dash\": \"solid\"}, \"mode\": \"lines\", \"name\": \"BRAND=BRAND_0\", \"showlegend\": true, \"type\": \"scatter\", \"x\": [\"2018-09-03\", \"2018-09-04\", \"2018-09-05\", \"2018-09-07\", \"2018-09-10\", \"2018-09-11\", \"2018-09-12\", \"2018-09-13\", \"2018-09-14\", \"2018-09-17\", \"2018-09-18\", \"2018-09-19\", \"2018-09-20\", \"2018-09-21\", \"2018-09-24\", \"2018-09-25\", \"2018-09-26\", \"2018-09-27\", \"2018-09-28\", \"2018-10-01\", \"2018-10-02\", \"2018-10-03\", \"2018-10-05\", \"2018-10-08\", \"2018-10-09\", \"2018-10-10\", \"2018-10-11\", \"2018-10-12\", \"2018-10-15\", \"2018-10-16\", \"2018-10-17\", \"2018-10-18\", \"2018-10-19\", \"2018-10-22\", \"2018-10-23\", \"2018-10-25\", \"2018-10-26\", \"2018-10-29\", \"2018-10-30\", \"2018-10-31\", \"2018-11-05\", \"2018-11-06\", \"2018-11-07\", \"2018-11-08\", \"2018-11-09\", \"2018-11-12\", \"2018-11-14\", \"2018-11-15\", \"2018-11-16\", \"2018-11-19\", \"2018-11-20\", \"2018-11-21\", \"2018-11-22\", \"2018-11-23\", \"2018-11-26\", \"2018-11-28\", \"2018-11-29\", \"2018-11-30\", \"2018-12-01\", \"2018-12-03\", \"2018-12-04\", \"2018-12-05\", \"2018-12-07\"], \"xaxis\": \"x\", \"y\": [8, 6, 15, 17, 16, 19, 10, 23, 16, 18, 22, 21, 20, 7, 13, 15, 15, 10, 14, 21, 17, 29, 15, 28, 9, 15, 9, 10, 23, 15, 17, 16, 10, 10, 8, 35, 4, 9, 3, 4, 1, 8, 24, 56, 15, 4, 8, 29, 17, 8, 14, 15, 24, 6, 9, 32, 11, 18, 1, 8, 27, 2, 1], \"yaxis\": \"y\"}, {\"hoverlabel\": {\"namelength\": 0}, \"hovertemplate\": \"BRAND=BRAND_1<br>ts=%{x}<br>count=%{y}\", \"legendgroup\": \"BRAND=BRAND_1\", \"line\": {\"color\": \"#EF553B\", \"dash\": \"solid\"}, \"mode\": \"lines\", \"name\": \"BRAND=BRAND_1\", \"showlegend\": true, \"type\": \"scatter\", \"x\": [\"2018-09-03\", \"2018-09-04\", \"2018-09-05\", \"2018-09-07\", \"2018-09-10\", \"2018-09-11\", \"2018-09-12\", \"2018-09-13\", \"2018-09-14\", \"2018-09-17\", \"2018-09-18\", \"2018-09-19\", \"2018-09-20\", \"2018-09-21\", \"2018-09-24\", \"2018-09-25\", \"2018-09-26\", \"2018-09-27\", \"2018-09-28\", \"2018-10-01\", \"2018-10-02\", \"2018-10-03\", \"2018-10-05\", \"2018-10-08\", \"2018-10-09\", \"2018-10-10\", \"2018-10-11\", \"2018-10-12\", \"2018-10-13\", \"2018-10-15\", \"2018-10-16\", \"2018-10-17\", \"2018-10-18\", \"2018-10-19\", \"2018-10-20\", \"2018-10-22\", \"2018-10-23\", \"2018-10-24\", \"2018-10-25\", \"2018-10-26\", \"2018-10-27\", \"2018-10-29\", \"2018-10-30\", \"2018-10-31\", \"2018-11-01\", \"2018-11-02\", \"2018-11-03\", \"2018-11-05\", \"2018-11-06\", \"2018-11-07\", \"2018-11-08\", \"2018-11-09\", \"2018-11-12\", \"2018-11-14\", \"2018-11-15\", \"2018-11-16\", \"2018-11-17\", \"2018-11-19\", \"2018-11-20\", \"2018-11-21\", \"2018-11-22\", \"2018-11-23\", \"2018-11-24\", \"2018-11-26\", \"2018-11-27\", \"2018-11-28\", \"2018-11-29\", \"2018-11-30\", \"2018-12-01\", \"2018-12-03\", \"2018-12-04\", \"2018-12-05\", \"2018-12-06\", \"2018-12-07\", \"2018-12-08\"], \"xaxis\": \"x\", \"y\": [214, 552, 633, 1327, 1181, 998, 1040, 744, 1100, 1206, 676, 776, 847, 675, 994, 736, 618, 733, 853, 1035, 1025, 792, 1132, 1270, 796, 1309, 992, 963, 22, 1420, 1321, 1246, 1332, 1039, 8, 492, 477, 16, 3699, 190, 3, 1146, 417, 432, 496, 15, 25, 388, 346, 1503, 3545, 2826, 567, 965, 2138, 1448, 16, 1109, 962, 1085, 2123, 1002, 110, 1327, 76, 3389, 1833, 1433, 311, 593, 1792, 254, 362, 205, 21], \"yaxis\": \"y\"}, {\"hoverlabel\": {\"namelength\": 0}, \"hovertemplate\": \"BRAND=BRAND_2<br>ts=%{x}<br>count=%{y}\", \"legendgroup\": \"BRAND=BRAND_2\", \"line\": {\"color\": \"#00cc96\", \"dash\": \"solid\"}, \"mode\": \"lines\", \"name\": \"BRAND=BRAND_2\", \"showlegend\": true, \"type\": \"scatter\", \"x\": [\"2018-09-03\", \"2018-09-04\", \"2018-09-05\", \"2018-09-07\", \"2018-09-10\", \"2018-09-11\", \"2018-09-12\", \"2018-09-13\", \"2018-09-14\", \"2018-09-17\", \"2018-09-18\", \"2018-09-19\", \"2018-09-20\", \"2018-09-21\", \"2018-09-24\", \"2018-09-25\", \"2018-09-26\", \"2018-09-27\", \"2018-09-28\", \"2018-10-01\", \"2018-10-02\", \"2018-10-03\", \"2018-10-05\", \"2018-10-08\", \"2018-10-09\", \"2018-10-10\", \"2018-10-11\", \"2018-10-12\", \"2018-10-13\", \"2018-10-15\", \"2018-10-16\", \"2018-10-17\", \"2018-10-18\", \"2018-10-19\", \"2018-10-20\", \"2018-10-22\", \"2018-10-23\", \"2018-10-24\", \"2018-10-25\", \"2018-10-26\", \"2018-10-27\", \"2018-10-29\", \"2018-10-30\", \"2018-10-31\", \"2018-11-01\", \"2018-11-02\", \"2018-11-03\", \"2018-11-05\", \"2018-11-06\", \"2018-11-07\", \"2018-11-08\", \"2018-11-09\", \"2018-11-12\", \"2018-11-14\", \"2018-11-15\", \"2018-11-16\", \"2018-11-17\", \"2018-11-19\", \"2018-11-20\", \"2018-11-21\", \"2018-11-22\", \"2018-11-23\", \"2018-11-24\", \"2018-11-26\", \"2018-11-27\", \"2018-11-28\", \"2018-11-29\", \"2018-11-30\", \"2018-12-01\", \"2018-12-03\", \"2018-12-04\", \"2018-12-06\", \"2018-12-07\", \"2018-12-08\"], \"xaxis\": \"x\", \"y\": [11, 24, 50, 83, 65, 44, 74, 65, 92, 106, 50, 58, 46, 18, 65, 120, 52, 39, 43, 47, 35, 21, 80, 104, 23, 62, 76, 53, 11, 66, 67, 70, 90, 65, 4, 60, 33, 3, 211, 33, 3, 82, 76, 34, 25, 5, 4, 29, 26, 10, 153, 419, 106, 111, 33, 174, 93, 134, 21, 28, 108, 2, 73, 18, 75, 105, 97, 10, 29, 2, 48, 10, 8, 6], \"yaxis\": \"y\"}, {\"hoverlabel\": {\"namelength\": 0}, \"hovertemplate\": \"BRAND=BRAND_3<br>ts=%{x}<br>count=%{y}\", \"legendgroup\": \"BRAND=BRAND_3\", \"line\": {\"color\": \"#ab63fa\", \"dash\": \"solid\"}, \"mode\": \"lines\", \"name\": \"BRAND=BRAND_3\", \"showlegend\": true, \"type\": \"scatter\", \"x\": [\"2018-09-03\", \"2018-09-04\", \"2018-09-05\", \"2018-09-07\", \"2018-09-10\", \"2018-09-11\", \"2018-09-12\", \"2018-09-13\", \"2018-09-14\", \"2018-09-17\", \"2018-09-18\", \"2018-09-19\", \"2018-09-20\", \"2018-09-21\", \"2018-09-24\", \"2018-09-25\", \"2018-09-26\", \"2018-09-27\", \"2018-10-01\", \"2018-10-03\", \"2018-10-05\", \"2018-10-08\", \"2018-10-09\", \"2018-10-10\", \"2018-10-11\", \"2018-10-12\", \"2018-10-16\", \"2018-10-17\", \"2018-10-18\", \"2018-10-19\", \"2018-10-25\", \"2018-10-29\", \"2018-11-08\", \"2018-11-09\", \"2018-11-15\", \"2018-11-16\", \"2018-11-21\", \"2018-11-22\", \"2018-11-28\", \"2018-11-29\", \"2018-11-30\", \"2018-12-03\", \"2018-12-04\"], \"xaxis\": \"x\", \"y\": [1, 1, 1, 3, 2, 2, 1, 1, 4, 1, 1, 2, 1, 3, 4, 1, 2, 1, 2, 2, 1, 4, 2, 1, 1, 2, 1, 2, 5, 2, 5, 2, 4, 9, 2, 2, 2, 3, 5, 1, 1, 1, 3], \"yaxis\": \"y\"}, {\"hoverlabel\": {\"namelength\": 0}, \"hovertemplate\": \"BRAND=BRAND_4<br>ts=%{x}<br>count=%{y}\", \"legendgroup\": \"BRAND=BRAND_4\", \"line\": {\"color\": \"#FFA15A\", \"dash\": \"solid\"}, \"mode\": \"lines\", \"name\": \"BRAND=BRAND_4\", \"showlegend\": true, \"type\": \"scatter\", \"x\": [\"2018-09-03\", \"2018-09-04\", \"2018-09-05\", \"2018-09-07\", \"2018-09-10\", \"2018-09-11\", \"2018-09-12\", \"2018-09-13\", \"2018-09-14\", \"2018-09-17\", \"2018-09-18\", \"2018-09-19\", \"2018-09-20\", \"2018-09-21\", \"2018-09-24\", \"2018-09-25\", \"2018-09-26\", \"2018-09-27\", \"2018-09-28\", \"2018-10-01\", \"2018-10-02\", \"2018-10-03\", \"2018-10-05\", \"2018-10-08\", \"2018-10-09\", \"2018-10-10\", \"2018-10-11\", \"2018-10-12\", \"2018-10-15\", \"2018-10-16\", \"2018-10-17\", \"2018-10-18\", \"2018-10-19\", \"2018-10-23\", \"2018-10-25\", \"2018-10-29\", \"2018-11-05\", \"2018-11-07\", \"2018-11-08\", \"2018-11-09\", \"2018-11-12\", \"2018-11-14\", \"2018-11-15\", \"2018-11-16\", \"2018-11-19\", \"2018-11-20\", \"2018-11-21\", \"2018-11-22\", \"2018-11-23\", \"2018-11-26\", \"2018-11-28\", \"2018-11-29\", \"2018-11-30\", \"2018-12-01\", \"2018-12-03\", \"2018-12-04\", \"2018-12-05\", \"2018-12-06\"], \"xaxis\": \"x\", \"y\": [6, 7, 3, 2, 5, 5, 8, 4, 9, 17, 9, 13, 3, 7, 12, 4, 2, 11, 6, 15, 14, 4, 5, 6, 4, 6, 5, 7, 13, 4, 5, 7, 5, 1, 12, 5, 1, 17, 31, 4, 2, 1, 15, 5, 4, 1, 8, 14, 2, 2, 11, 3, 4, 2, 1, 8, 1, 1], \"yaxis\": \"y\"}, {\"hoverlabel\": {\"namelength\": 0}, \"hovertemplate\": \"BRAND=BRAND_5<br>ts=%{x}<br>count=%{y}\", \"legendgroup\": \"BRAND=BRAND_5\", \"line\": {\"color\": \"#19d3f3\", \"dash\": \"solid\"}, \"mode\": \"lines\", \"name\": \"BRAND=BRAND_5\", \"showlegend\": true, \"type\": \"scatter\", \"x\": [\"2018-09-10\", \"2018-09-11\", \"2018-10-12\", \"2018-11-15\"], \"xaxis\": \"x\", \"y\": [1, 1, 1, 1], \"yaxis\": \"y\"}, {\"hoverlabel\": {\"namelength\": 0}, \"hovertemplate\": \"BRAND=BRAND_6<br>ts=%{x}<br>count=%{y}\", \"legendgroup\": \"BRAND=BRAND_6\", \"line\": {\"color\": \"#FF6692\", \"dash\": \"solid\"}, \"mode\": \"lines\", \"name\": \"BRAND=BRAND_6\", \"showlegend\": true, \"type\": \"scatter\", \"x\": [\"2018-09-03\", \"2018-09-04\", \"2018-09-05\", \"2018-09-07\", \"2018-09-10\", \"2018-09-11\", \"2018-09-12\", \"2018-09-13\", \"2018-09-14\", \"2018-09-17\", \"2018-09-18\", \"2018-09-19\", \"2018-09-20\", \"2018-09-21\", \"2018-09-24\", \"2018-09-25\", \"2018-09-26\", \"2018-09-27\", \"2018-09-28\", \"2018-10-01\", \"2018-10-02\", \"2018-10-03\", \"2018-10-05\", \"2018-10-08\", \"2018-10-09\", \"2018-10-10\", \"2018-10-11\", \"2018-10-12\", \"2018-10-15\", \"2018-10-16\", \"2018-10-17\", \"2018-10-18\", \"2018-10-19\", \"2018-10-22\", \"2018-10-23\", \"2018-10-25\", \"2018-10-29\", \"2018-10-30\", \"2018-11-05\", \"2018-11-07\", \"2018-11-08\", \"2018-11-09\", \"2018-11-12\", \"2018-11-14\", \"2018-11-15\", \"2018-11-16\", \"2018-11-19\", \"2018-11-20\", \"2018-11-21\", \"2018-11-22\", \"2018-11-23\", \"2018-11-26\", \"2018-11-28\", \"2018-11-29\", \"2018-11-30\", \"2018-12-01\", \"2018-12-03\", \"2018-12-04\", \"2018-12-05\", \"2018-12-06\", \"2018-12-07\"], \"xaxis\": \"x\", \"y\": [33, 108, 165, 217, 191, 105, 123, 85, 128, 200, 99, 94, 113, 34, 107, 49, 218, 180, 190, 145, 122, 215, 196, 177, 32, 168, 160, 98, 170, 143, 113, 86, 82, 36, 5, 367, 74, 9, 1, 208, 620, 351, 56, 231, 647, 170, 21, 51, 201, 647, 107, 97, 274, 74, 60, 16, 6, 139, 17, 4, 6], \"yaxis\": \"y\"}, {\"hoverlabel\": {\"namelength\": 0}, \"hovertemplate\": \"BRAND=BRAND_7<br>ts=%{x}<br>count=%{y}\", \"legendgroup\": \"BRAND=BRAND_7\", \"line\": {\"color\": \"#B6E880\", \"dash\": \"solid\"}, \"mode\": \"lines\", \"name\": \"BRAND=BRAND_7\", \"showlegend\": true, \"type\": \"scatter\", \"x\": [\"2018-11-05\", \"2018-11-06\", \"2018-11-08\", \"2018-11-09\", \"2018-11-12\", \"2018-11-14\", \"2018-11-15\", \"2018-11-16\", \"2018-11-19\", \"2018-11-20\", \"2018-11-21\", \"2018-11-22\", \"2018-11-23\", \"2018-11-26\", \"2018-11-28\", \"2018-11-29\", \"2018-11-30\", \"2018-12-03\", \"2018-12-04\", \"2018-12-05\", \"2018-12-06\", \"2018-12-07\"], \"xaxis\": \"x\", \"y\": [4, 1, 41, 15, 25, 48, 83, 71, 289, 516, 401, 281, 275, 453, 1279, 432, 348, 819, 103, 625, 264, 31], \"yaxis\": \"y\"}, {\"hoverlabel\": {\"namelength\": 0}, \"hovertemplate\": \"BRAND=BRAND_8<br>ts=%{x}<br>count=%{y}\", \"legendgroup\": \"BRAND=BRAND_8\", \"line\": {\"color\": \"#FF97FF\", \"dash\": \"solid\"}, \"mode\": \"lines\", \"name\": \"BRAND=BRAND_8\", \"showlegend\": true, \"type\": \"scatter\", \"x\": [\"2018-09-04\", \"2018-09-10\", \"2018-09-13\", \"2018-09-17\", \"2018-09-18\", \"2018-09-24\", \"2018-10-11\", \"2018-10-16\", \"2018-10-17\", \"2018-11-06\", \"2018-11-14\", \"2018-11-16\", \"2018-11-22\", \"2018-11-28\"], \"xaxis\": \"x\", \"y\": [1, 2, 1, 1, 1, 1, 1, 2, 1, 1, 1, 1, 1, 1], \"yaxis\": \"y\"}, {\"hoverlabel\": {\"namelength\": 0}, \"hovertemplate\": \"BRAND=BRAND_9<br>ts=%{x}<br>count=%{y}\", \"legendgroup\": \"BRAND=BRAND_9\", \"line\": {\"color\": \"#FECB52\", \"dash\": \"solid\"}, \"mode\": \"lines\", \"name\": \"BRAND=BRAND_9\", \"showlegend\": true, \"type\": \"scatter\", \"x\": [\"2018-09-03\", \"2018-09-05\", \"2018-09-11\", \"2018-09-13\", \"2018-09-14\", \"2018-09-17\", \"2018-09-18\", \"2018-09-19\", \"2018-09-20\", \"2018-09-25\", \"2018-09-26\", \"2018-09-27\", \"2018-09-28\", \"2018-10-01\", \"2018-10-02\", \"2018-10-03\", \"2018-10-08\", \"2018-10-09\", \"2018-10-10\", \"2018-10-11\", \"2018-10-12\", \"2018-10-15\", \"2018-10-18\", \"2018-10-22\", \"2018-10-23\", \"2018-11-05\", \"2018-11-07\", \"2018-11-08\", \"2018-11-09\", \"2018-11-15\", \"2018-11-16\", \"2018-11-19\", \"2018-11-20\", \"2018-11-23\", \"2018-11-28\", \"2018-11-29\"], \"xaxis\": \"x\", \"y\": [1, 1, 2, 1, 4, 1, 1, 1, 2, 1, 1, 3, 2, 3, 1, 2, 2, 2, 1, 1, 1, 1, 4, 1, 2, 1, 4, 7, 1, 3, 1, 3, 1, 1, 2, 2], \"yaxis\": \"y\"}],\n",
       "                        {\"height\": 600, \"legend\": {\"tracegroupgap\": 0}, \"margin\": {\"t\": 60}, \"template\": {\"data\": {\"bar\": [{\"error_x\": {\"color\": \"#2a3f5f\"}, \"error_y\": {\"color\": \"#2a3f5f\"}, \"marker\": {\"line\": {\"color\": \"#E5ECF6\", \"width\": 0.5}}, \"type\": \"bar\"}], \"barpolar\": [{\"marker\": {\"line\": {\"color\": \"#E5ECF6\", \"width\": 0.5}}, \"type\": \"barpolar\"}], \"carpet\": [{\"aaxis\": {\"endlinecolor\": \"#2a3f5f\", \"gridcolor\": \"white\", \"linecolor\": \"white\", \"minorgridcolor\": \"white\", \"startlinecolor\": \"#2a3f5f\"}, \"baxis\": {\"endlinecolor\": \"#2a3f5f\", \"gridcolor\": \"white\", \"linecolor\": \"white\", \"minorgridcolor\": \"white\", \"startlinecolor\": \"#2a3f5f\"}, \"type\": \"carpet\"}], \"choropleth\": [{\"colorbar\": {\"outlinewidth\": 0, \"ticks\": \"\"}, \"type\": \"choropleth\"}], \"contour\": [{\"colorbar\": {\"outlinewidth\": 0, \"ticks\": \"\"}, \"colorscale\": [[0.0, \"#0d0887\"], [0.1111111111111111, \"#46039f\"], [0.2222222222222222, \"#7201a8\"], [0.3333333333333333, \"#9c179e\"], [0.4444444444444444, \"#bd3786\"], [0.5555555555555556, \"#d8576b\"], [0.6666666666666666, \"#ed7953\"], [0.7777777777777778, \"#fb9f3a\"], [0.8888888888888888, \"#fdca26\"], [1.0, \"#f0f921\"]], \"type\": \"contour\"}], \"contourcarpet\": [{\"colorbar\": {\"outlinewidth\": 0, \"ticks\": \"\"}, \"type\": \"contourcarpet\"}], \"heatmap\": [{\"colorbar\": {\"outlinewidth\": 0, \"ticks\": \"\"}, \"colorscale\": [[0.0, \"#0d0887\"], [0.1111111111111111, \"#46039f\"], [0.2222222222222222, \"#7201a8\"], [0.3333333333333333, \"#9c179e\"], [0.4444444444444444, \"#bd3786\"], [0.5555555555555556, \"#d8576b\"], [0.6666666666666666, \"#ed7953\"], [0.7777777777777778, \"#fb9f3a\"], [0.8888888888888888, \"#fdca26\"], [1.0, \"#f0f921\"]], \"type\": \"heatmap\"}], \"heatmapgl\": [{\"colorbar\": {\"outlinewidth\": 0, \"ticks\": \"\"}, \"colorscale\": [[0.0, \"#0d0887\"], [0.1111111111111111, \"#46039f\"], [0.2222222222222222, \"#7201a8\"], [0.3333333333333333, \"#9c179e\"], [0.4444444444444444, \"#bd3786\"], [0.5555555555555556, \"#d8576b\"], [0.6666666666666666, \"#ed7953\"], [0.7777777777777778, \"#fb9f3a\"], [0.8888888888888888, \"#fdca26\"], [1.0, \"#f0f921\"]], \"type\": \"heatmapgl\"}], \"histogram\": [{\"marker\": {\"colorbar\": {\"outlinewidth\": 0, \"ticks\": \"\"}}, \"type\": \"histogram\"}], \"histogram2d\": [{\"colorbar\": {\"outlinewidth\": 0, \"ticks\": \"\"}, \"colorscale\": [[0.0, \"#0d0887\"], [0.1111111111111111, \"#46039f\"], [0.2222222222222222, \"#7201a8\"], [0.3333333333333333, \"#9c179e\"], [0.4444444444444444, \"#bd3786\"], [0.5555555555555556, \"#d8576b\"], [0.6666666666666666, \"#ed7953\"], [0.7777777777777778, \"#fb9f3a\"], [0.8888888888888888, \"#fdca26\"], [1.0, \"#f0f921\"]], \"type\": \"histogram2d\"}], \"histogram2dcontour\": [{\"colorbar\": {\"outlinewidth\": 0, \"ticks\": \"\"}, \"colorscale\": [[0.0, \"#0d0887\"], [0.1111111111111111, \"#46039f\"], [0.2222222222222222, \"#7201a8\"], [0.3333333333333333, \"#9c179e\"], [0.4444444444444444, \"#bd3786\"], [0.5555555555555556, \"#d8576b\"], [0.6666666666666666, \"#ed7953\"], [0.7777777777777778, \"#fb9f3a\"], [0.8888888888888888, \"#fdca26\"], [1.0, \"#f0f921\"]], \"type\": \"histogram2dcontour\"}], \"mesh3d\": [{\"colorbar\": {\"outlinewidth\": 0, \"ticks\": \"\"}, \"type\": \"mesh3d\"}], \"parcoords\": [{\"line\": {\"colorbar\": {\"outlinewidth\": 0, \"ticks\": \"\"}}, \"type\": \"parcoords\"}], \"scatter\": [{\"marker\": {\"colorbar\": {\"outlinewidth\": 0, \"ticks\": \"\"}}, \"type\": \"scatter\"}], \"scatter3d\": [{\"line\": {\"colorbar\": {\"outlinewidth\": 0, \"ticks\": \"\"}}, \"marker\": {\"colorbar\": {\"outlinewidth\": 0, \"ticks\": \"\"}}, \"type\": \"scatter3d\"}], \"scattercarpet\": [{\"marker\": {\"colorbar\": {\"outlinewidth\": 0, \"ticks\": \"\"}}, \"type\": \"scattercarpet\"}], \"scattergeo\": [{\"marker\": {\"colorbar\": {\"outlinewidth\": 0, \"ticks\": \"\"}}, \"type\": \"scattergeo\"}], \"scattergl\": [{\"marker\": {\"colorbar\": {\"outlinewidth\": 0, \"ticks\": \"\"}}, \"type\": \"scattergl\"}], \"scattermapbox\": [{\"marker\": {\"colorbar\": {\"outlinewidth\": 0, \"ticks\": \"\"}}, \"type\": \"scattermapbox\"}], \"scatterpolar\": [{\"marker\": {\"colorbar\": {\"outlinewidth\": 0, \"ticks\": \"\"}}, \"type\": \"scatterpolar\"}], \"scatterpolargl\": [{\"marker\": {\"colorbar\": {\"outlinewidth\": 0, \"ticks\": \"\"}}, \"type\": \"scatterpolargl\"}], \"scatterternary\": [{\"marker\": {\"colorbar\": {\"outlinewidth\": 0, \"ticks\": \"\"}}, \"type\": \"scatterternary\"}], \"surface\": [{\"colorbar\": {\"outlinewidth\": 0, \"ticks\": \"\"}, \"colorscale\": [[0.0, \"#0d0887\"], [0.1111111111111111, \"#46039f\"], [0.2222222222222222, \"#7201a8\"], [0.3333333333333333, \"#9c179e\"], [0.4444444444444444, \"#bd3786\"], [0.5555555555555556, \"#d8576b\"], [0.6666666666666666, \"#ed7953\"], [0.7777777777777778, \"#fb9f3a\"], [0.8888888888888888, \"#fdca26\"], [1.0, \"#f0f921\"]], \"type\": \"surface\"}], \"table\": [{\"cells\": {\"fill\": {\"color\": \"#EBF0F8\"}, \"line\": {\"color\": \"white\"}}, \"header\": {\"fill\": {\"color\": \"#C8D4E3\"}, \"line\": {\"color\": \"white\"}}, \"type\": \"table\"}]}, \"layout\": {\"annotationdefaults\": {\"arrowcolor\": \"#2a3f5f\", \"arrowhead\": 0, \"arrowwidth\": 1}, \"colorscale\": {\"diverging\": [[0, \"#8e0152\"], [0.1, \"#c51b7d\"], [0.2, \"#de77ae\"], [0.3, \"#f1b6da\"], [0.4, \"#fde0ef\"], [0.5, \"#f7f7f7\"], [0.6, \"#e6f5d0\"], [0.7, \"#b8e186\"], [0.8, \"#7fbc41\"], [0.9, \"#4d9221\"], [1, \"#276419\"]], \"sequential\": [[0.0, \"#0d0887\"], [0.1111111111111111, \"#46039f\"], [0.2222222222222222, \"#7201a8\"], [0.3333333333333333, \"#9c179e\"], [0.4444444444444444, \"#bd3786\"], [0.5555555555555556, \"#d8576b\"], [0.6666666666666666, \"#ed7953\"], [0.7777777777777778, \"#fb9f3a\"], [0.8888888888888888, \"#fdca26\"], [1.0, \"#f0f921\"]], \"sequentialminus\": [[0.0, \"#0d0887\"], [0.1111111111111111, \"#46039f\"], [0.2222222222222222, \"#7201a8\"], [0.3333333333333333, \"#9c179e\"], [0.4444444444444444, \"#bd3786\"], [0.5555555555555556, \"#d8576b\"], [0.6666666666666666, \"#ed7953\"], [0.7777777777777778, \"#fb9f3a\"], [0.8888888888888888, \"#fdca26\"], [1.0, \"#f0f921\"]]}, \"colorway\": [\"#636efa\", \"#EF553B\", \"#00cc96\", \"#ab63fa\", \"#FFA15A\", \"#19d3f3\", \"#FF6692\", \"#B6E880\", \"#FF97FF\", \"#FECB52\"], \"font\": {\"color\": \"#2a3f5f\"}, \"geo\": {\"bgcolor\": \"white\", \"lakecolor\": \"white\", \"landcolor\": \"#E5ECF6\", \"showlakes\": true, \"showland\": true, \"subunitcolor\": \"white\"}, \"hoverlabel\": {\"align\": \"left\"}, \"hovermode\": \"closest\", \"mapbox\": {\"style\": \"light\"}, \"paper_bgcolor\": \"white\", \"plot_bgcolor\": \"#E5ECF6\", \"polar\": {\"angularaxis\": {\"gridcolor\": \"white\", \"linecolor\": \"white\", \"ticks\": \"\"}, \"bgcolor\": \"#E5ECF6\", \"radialaxis\": {\"gridcolor\": \"white\", \"linecolor\": \"white\", \"ticks\": \"\"}}, \"scene\": {\"xaxis\": {\"backgroundcolor\": \"#E5ECF6\", \"gridcolor\": \"white\", \"gridwidth\": 2, \"linecolor\": \"white\", \"showbackground\": true, \"ticks\": \"\", \"zerolinecolor\": \"white\"}, \"yaxis\": {\"backgroundcolor\": \"#E5ECF6\", \"gridcolor\": \"white\", \"gridwidth\": 2, \"linecolor\": \"white\", \"showbackground\": true, \"ticks\": \"\", \"zerolinecolor\": \"white\"}, \"zaxis\": {\"backgroundcolor\": \"#E5ECF6\", \"gridcolor\": \"white\", \"gridwidth\": 2, \"linecolor\": \"white\", \"showbackground\": true, \"ticks\": \"\", \"zerolinecolor\": \"white\"}}, \"shapedefaults\": {\"line\": {\"color\": \"#2a3f5f\"}}, \"ternary\": {\"aaxis\": {\"gridcolor\": \"white\", \"linecolor\": \"white\", \"ticks\": \"\"}, \"baxis\": {\"gridcolor\": \"white\", \"linecolor\": \"white\", \"ticks\": \"\"}, \"bgcolor\": \"#E5ECF6\", \"caxis\": {\"gridcolor\": \"white\", \"linecolor\": \"white\", \"ticks\": \"\"}}, \"title\": {\"x\": 0.05}, \"xaxis\": {\"automargin\": true, \"gridcolor\": \"white\", \"linecolor\": \"white\", \"ticks\": \"\", \"zerolinecolor\": \"white\", \"zerolinewidth\": 2}, \"yaxis\": {\"automargin\": true, \"gridcolor\": \"white\", \"linecolor\": \"white\", \"ticks\": \"\", \"zerolinecolor\": \"white\", \"zerolinewidth\": 2}}}, \"xaxis\": {\"anchor\": \"y\", \"domain\": [0.0, 0.98], \"title\": {\"text\": \"ts\"}}, \"yaxis\": {\"anchor\": \"x\", \"domain\": [0.0, 1.0], \"title\": {\"text\": \"count\"}}},\n",
       "                        {\"responsive\": true}\n",
       "                    ).then(function(){\n",
       "                            \n",
       "var gd = document.getElementById('f08e6a93-5e5a-4725-a1eb-dd97b95aebe8');\n",
       "var x = new MutationObserver(function (mutations, observer) {{\n",
       "        var display = window.getComputedStyle(gd).display;\n",
       "        if (!display || display === 'none') {{\n",
       "            console.log([gd, 'removed!']);\n",
       "            Plotly.purge(gd);\n",
       "            observer.disconnect();\n",
       "        }}\n",
       "}});\n",
       "\n",
       "// Listen for the removal of the full notebook cells\n",
       "var notebookContainer = gd.closest('#notebook-container');\n",
       "if (notebookContainer) {{\n",
       "    x.observe(notebookContainer, {childList: true});\n",
       "}}\n",
       "\n",
       "// Listen for the clearing of the current output cell\n",
       "var outputEl = gd.closest('.output');\n",
       "if (outputEl) {{\n",
       "    x.observe(outputEl, {childList: true});\n",
       "}}\n",
       "\n",
       "                        })\n",
       "                };\n",
       "                });\n",
       "            </script>\n",
       "        </div>"
      ]
     },
     "metadata": {},
     "output_type": "display_data"
    }
   ],
   "source": [
    "brandsWithCountNumberPerDay =  dJoinBrandsAndDsum.groupby(['BRAND','ts']).ts.agg('count').to_frame('count').reset_index()\n",
    "brandsWithCountNumberPerDay\n",
    "\n",
    "import plotly.express as px\n",
    "fig = px.line(brandsWithCountNumberPerDay, x='ts', y='count', color='BRAND')\n",
    "fig.show()"
   ]
  },
  {
   "cell_type": "code",
   "execution_count": null,
   "metadata": {},
   "outputs": [],
   "source": [
    "dfBrand0 = dJoinBrandsAndDsum.query(\"BRAND == 'BRAND_0'\")\n",
    "dfBrand0 = dfBrand0.groupby(['ts']).ts.agg('count').to_frame('count').reset_index()\n",
    "#dfBrand0\n",
    "\n",
    "dfBrand1 = dJoinBrandsAndDsum.query(\"BRAND == 'BRAND_1'\")\n",
    "dfBrand1 = dfBrand1.groupby(['ts']).ts.agg('count').to_frame('count').reset_index()\n",
    "#dfBrand1\n",
    "\n",
    "dfBrand2 = dJoinBrandsAndDsum.query(\"BRAND == 'BRAND_2'\")\n",
    "dfBrand2 = dfBrand2.groupby(['ts']).ts.agg('count').to_frame('count').reset_index()\n",
    "#dfBrand2\n",
    "\n",
    "dfBrand3 = dJoinBrandsAndDsum.query(\"BRAND == 'BRAND_3'\")\n",
    "dfBrand3 = dfBrand3.groupby(['ts']).ts.agg('count').to_frame('count').reset_index()\n",
    "#dfBrand3\n",
    "\n",
    "dfBrand4 = dJoinBrandsAndDsum.query(\"BRAND == 'BRAND_4'\")\n",
    "dfBrand4 = dfBrand4.groupby(['ts']).ts.agg('count').to_frame('count').reset_index()\n",
    "#dfBrand4\n",
    "\n",
    "dfBrand5 = dJoinBrandsAndDsum.query(\"BRAND == 'BRAND_5'\")\n",
    "dfBrand5 = dfBrand5.groupby(['ts']).ts.agg('count').to_frame('count').reset_index()\n",
    "#dfBrand5\n",
    "\n",
    "dfBrand6 = dJoinBrandsAndDsum.query(\"BRAND == 'BRAND_6'\")\n",
    "dfBrand6 = dfBrand6.groupby(['ts']).ts.agg('count').to_frame('count').reset_index()\n",
    "dfBrand6\n",
    "\n",
    "dfBrand7 = dJoinBrandsAndDsum.query(\"BRAND == 'BRAND_7'\")\n",
    "dfBrand7 = dfBrand7.groupby(['ts']).ts.agg('count').to_frame('count').reset_index()\n",
    "#dfBrand7\n",
    "\n",
    "dfBrand8 = dJoinBrandsAndDsum.query(\"BRAND == 'BRAND_8'\")\n",
    "dfBrand8 = dfBrand8.groupby(['ts']).ts.agg('count').to_frame('count').reset_index()\n",
    "#dfBrand8\n",
    "\n",
    "dfBrand9 = dJoinBrandsAndDsum.query(\"BRAND == 'BRAND_9'\")\n",
    "dfBrand9 = dfBrand9.groupby(['ts']).ts.agg('count').to_frame('count').reset_index()\n",
    "#dfBrand9"
   ]
  }
 ],
 "metadata": {
  "kernelspec": {
   "display_name": "Python 3",
   "language": "python",
   "name": "python3"
  },
  "language_info": {
   "codemirror_mode": {
    "name": "ipython",
    "version": 3
   },
   "file_extension": ".py",
   "mimetype": "text/x-python",
   "name": "python",
   "nbconvert_exporter": "python",
   "pygments_lexer": "ipython3",
   "version": "3.7.4"
  }
 },
 "nbformat": 4,
 "nbformat_minor": 2
}
